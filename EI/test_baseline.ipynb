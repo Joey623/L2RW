{
 "cells": [
  {
   "cell_type": "markdown",
   "id": "d8a1c66c-d21a-4feb-9f4f-373026a8651d",
   "metadata": {},
   "source": [
    "## R+S->L"
   ]
  },
  {
   "cell_type": "code",
   "execution_count": 1,
   "id": "f66076be-e351-4ef7-bfe4-50cc1ed7ad24",
   "metadata": {
    "tags": []
   },
   "outputs": [
    {
     "name": "stdout",
     "output_type": "stream",
     "text": [
      "==> Building model......\n",
      "==> Testing......\n",
      "==> Loading weights from checkpoint......\n",
      "==> best epoch 20\n",
      "Test Trial: 0\n",
      "original feature:   Rank-1: 9.78% | Rank-5: 20.47% | Rank-10: 27.21%| Rank-20: 36.30%| mAP: 13.24%| mINP: 10.91%\n",
      "feature after BN:   Rank-1: 9.64% | Rank-5: 20.78% | Rank-10: 28.20%| Rank-20: 37.40%| mAP: 13.46%| mINP: 11.09%\n",
      "Test Trial: 1\n",
      "original feature:   Rank-1: 9.57% | Rank-5: 19.73% | Rank-10: 26.57%| Rank-20: 35.65%| mAP: 13.30%| mINP: 11.34%\n",
      "feature after BN:   Rank-1: 8.60% | Rank-5: 19.27% | Rank-10: 26.49%| Rank-20: 35.93%| mAP: 12.64%| mINP: 10.63%\n",
      "Test Trial: 2\n",
      "original feature:   Rank-1: 8.50% | Rank-5: 19.62% | Rank-10: 26.64%| Rank-20: 35.26%| mAP: 12.48%| mINP: 10.47%\n",
      "feature after BN:   Rank-1: 9.35% | Rank-5: 20.21% | Rank-10: 27.59%| Rank-20: 36.51%| mAP: 13.09%| mINP: 10.84%\n",
      "Test Trial: 3\n",
      "original feature:   Rank-1: 8.65% | Rank-5: 20.29% | Rank-10: 27.37%| Rank-20: 36.56%| mAP: 12.84%| mINP: 10.68%\n",
      "feature after BN:   Rank-1: 8.67% | Rank-5: 20.03% | Rank-10: 27.07%| Rank-20: 36.24%| mAP: 12.70%| mINP: 10.43%\n",
      "Test Trial: 4\n",
      "original feature:   Rank-1: 8.72% | Rank-5: 20.44% | Rank-10: 26.79%| Rank-20: 35.91%| mAP: 12.80%| mINP: 10.64%\n",
      "feature after BN:   Rank-1: 8.57% | Rank-5: 19.30% | Rank-10: 26.39%| Rank-20: 35.45%| mAP: 12.48%| mINP: 10.33%\n",
      "Test Trial: 5\n",
      "original feature:   Rank-1: 9.35% | Rank-5: 19.96% | Rank-10: 27.25%| Rank-20: 36.06%| mAP: 13.22%| mINP: 11.15%\n",
      "feature after BN:   Rank-1: 9.21% | Rank-5: 19.76% | Rank-10: 26.36%| Rank-20: 35.17%| mAP: 12.96%| mINP: 10.70%\n",
      "Test Trial: 6\n",
      "original feature:   Rank-1: 8.89% | Rank-5: 19.48% | Rank-10: 26.21%| Rank-20: 36.44%| mAP: 12.83%| mINP: 10.83%\n",
      "feature after BN:   Rank-1: 8.55% | Rank-5: 18.39% | Rank-10: 25.10%| Rank-20: 35.45%| mAP: 12.44%| mINP: 10.39%\n",
      "Test Trial: 7\n",
      "original feature:   Rank-1: 8.53% | Rank-5: 20.14% | Rank-10: 27.00%| Rank-20: 36.44%| mAP: 12.56%| mINP: 10.34%\n",
      "feature after BN:   Rank-1: 8.75% | Rank-5: 20.25% | Rank-10: 27.27%| Rank-20: 36.49%| mAP: 12.84%| mINP: 10.51%\n",
      "Test Trial: 8\n",
      "original feature:   Rank-1: 9.21% | Rank-5: 20.14% | Rank-10: 27.95%| Rank-20: 38.08%| mAP: 13.16%| mINP: 11.00%\n",
      "feature after BN:   Rank-1: 9.15% | Rank-5: 19.90% | Rank-10: 27.28%| Rank-20: 37.37%| mAP: 13.05%| mINP: 10.68%\n",
      "Test Trial: 9\n",
      "original feature:   Rank-1: 9.63% | Rank-5: 20.19% | Rank-10: 27.30%| Rank-20: 35.99%| mAP: 12.99%| mINP: 10.73%\n",
      "feature after BN:   Rank-1: 9.20% | Rank-5: 19.40% | Rank-10: 26.39%| Rank-20: 35.75%| mAP: 12.86%| mINP: 10.56%\n",
      "All Average:\n",
      "original feature:   Rank-1: 9.08% | Rank-5: 20.05% | Rank-10: 27.03%| Rank-20: 36.27%| mAP: 12.94%| mINP: 10.81%\n",
      "feature after BN:   Rank-1: 8.97% | Rank-5: 19.73% | Rank-10: 26.81%| Rank-20: 36.17%| mAP: 12.85%| mINP: 10.62%\n"
     ]
    }
   ],
   "source": [
    "%run test.py --dataset llcm --resume baseline_R_S_to_L_p8_n8_lr0.2_sgd_seed_0.pth"
   ]
  },
  {
   "cell_type": "markdown",
   "id": "753287f9-07de-4bfe-bec5-bfdba13d41f3",
   "metadata": {},
   "source": [
    "## R+L->S"
   ]
  },
  {
   "cell_type": "code",
   "execution_count": 2,
   "id": "7a704c49-6212-4edf-9e74-b752f37e288d",
   "metadata": {
    "tags": []
   },
   "outputs": [
    {
     "name": "stdout",
     "output_type": "stream",
     "text": [
      "==> Building model......\n",
      "==> Testing......\n",
      "==> Loading weights from checkpoint......\n",
      "==> best epoch 21\n",
      "Test Trial: 0\n",
      "original feature:   Rank-1: 10.54% | Rank-5: 25.45% | Rank-10: 37.84%| Rank-20: 54.59%| mAP: 10.21%| mINP: 4.06%\n",
      "feature after BN:   Rank-1: 12.20% | Rank-5: 28.66% | Rank-10: 41.68%| Rank-20: 58.40%| mAP: 11.74%| mINP: 4.66%\n",
      "Test Trial: 1\n",
      "original feature:   Rank-1: 8.26% | Rank-5: 24.48% | Rank-10: 34.89%| Rank-20: 50.62%| mAP: 9.96%| mINP: 4.42%\n",
      "feature after BN:   Rank-1: 8.99% | Rank-5: 24.98% | Rank-10: 36.02%| Rank-20: 53.75%| mAP: 10.86%| mINP: 5.35%\n",
      "Test Trial: 2\n",
      "original feature:   Rank-1: 7.18% | Rank-5: 21.06% | Rank-10: 33.11%| Rank-20: 49.62%| mAP: 8.95%| mINP: 4.35%\n",
      "feature after BN:   Rank-1: 9.39% | Rank-5: 25.95% | Rank-10: 38.63%| Rank-20: 54.22%| mAP: 10.23%| mINP: 4.42%\n",
      "Test Trial: 3\n",
      "original feature:   Rank-1: 7.81% | Rank-5: 21.56% | Rank-10: 32.61%| Rank-20: 48.72%| mAP: 8.68%| mINP: 3.90%\n",
      "feature after BN:   Rank-1: 8.47% | Rank-5: 23.69% | Rank-10: 36.66%| Rank-20: 54.01%| mAP: 10.01%| mINP: 4.66%\n",
      "Test Trial: 4\n",
      "original feature:   Rank-1: 7.81% | Rank-5: 21.98% | Rank-10: 33.76%| Rank-20: 50.43%| mAP: 9.29%| mINP: 4.27%\n",
      "feature after BN:   Rank-1: 9.31% | Rank-5: 24.38% | Rank-10: 37.86%| Rank-20: 55.48%| mAP: 10.68%| mINP: 5.14%\n",
      "Test Trial: 5\n",
      "original feature:   Rank-1: 8.65% | Rank-5: 23.32% | Rank-10: 34.10%| Rank-20: 50.09%| mAP: 9.59%| mINP: 4.06%\n",
      "feature after BN:   Rank-1: 10.10% | Rank-5: 26.48% | Rank-10: 38.55%| Rank-20: 54.85%| mAP: 11.12%| mINP: 4.71%\n",
      "Test Trial: 6\n",
      "original feature:   Rank-1: 7.78% | Rank-5: 22.77% | Rank-10: 33.71%| Rank-20: 49.51%| mAP: 9.22%| mINP: 4.12%\n",
      "feature after BN:   Rank-1: 9.39% | Rank-5: 26.43% | Rank-10: 38.81%| Rank-20: 54.06%| mAP: 10.75%| mINP: 4.42%\n",
      "Test Trial: 7\n",
      "original feature:   Rank-1: 7.44% | Rank-5: 22.77% | Rank-10: 34.32%| Rank-20: 49.86%| mAP: 8.46%| mINP: 3.33%\n",
      "feature after BN:   Rank-1: 9.70% | Rank-5: 26.35% | Rank-10: 38.86%| Rank-20: 55.32%| mAP: 10.21%| mINP: 4.29%\n",
      "Test Trial: 8\n",
      "original feature:   Rank-1: 6.28% | Rank-5: 21.06% | Rank-10: 32.79%| Rank-20: 48.49%| mAP: 8.75%| mINP: 4.05%\n",
      "feature after BN:   Rank-1: 8.10% | Rank-5: 23.40% | Rank-10: 35.63%| Rank-20: 52.83%| mAP: 10.06%| mINP: 4.81%\n",
      "Test Trial: 9\n",
      "original feature:   Rank-1: 8.41% | Rank-5: 22.51% | Rank-10: 33.32%| Rank-20: 49.30%| mAP: 9.29%| mINP: 4.14%\n",
      "feature after BN:   Rank-1: 11.54% | Rank-5: 27.71% | Rank-10: 39.44%| Rank-20: 55.19%| mAP: 11.72%| mINP: 5.02%\n",
      "All Average:\n",
      "original feature:   Rank-1: 8.02% | Rank-5: 22.70% | Rank-10: 34.04%| Rank-20: 50.12%| mAP: 9.24%| mINP: 4.07%\n",
      "feature after BN:   Rank-1: 9.72% | Rank-5: 25.80% | Rank-10: 38.21%| Rank-20: 54.81%| mAP: 10.74%| mINP: 4.75%\n"
     ]
    }
   ],
   "source": [
    "%run test.py --dataset sysu --resume baseline_R_L_to_S_p8_n8_lr0.2_sgd_seed_0.pth"
   ]
  },
  {
   "cell_type": "markdown",
   "id": "71f1dd39-3287-4ba9-8d19-293a85379fa8",
   "metadata": {},
   "source": [
    "## L+S->R"
   ]
  },
  {
   "cell_type": "code",
   "execution_count": 3,
   "id": "7673551f-6d34-4306-bb0d-c481cf3b811e",
   "metadata": {
    "tags": []
   },
   "outputs": [
    {
     "name": "stdout",
     "output_type": "stream",
     "text": [
      "==> Building model......\n",
      "==> Testing......\n",
      "==> Loading weights from checkpoint......\n",
      "==> best epoch 17\n",
      "Test Trial: 1, Thermal to Visible\n",
      "original feature:   Rank-1: 13.35% | Rank-5: 20.97% | Rank-10: 25.97%| Rank-20: 34.61%| mAP: 13.56%| mINP: 7.80%\n",
      "feature after BN:   Rank-1: 20.19% | Rank-5: 31.07% | Rank-10: 36.50%| Rank-20: 43.64%| mAP: 19.20%| mINP: 11.49%\n",
      "Test Trial: 2, Thermal to Visible\n",
      "original feature:   Rank-1: 11.70% | Rank-5: 18.74% | Rank-10: 22.77%| Rank-20: 31.50%| mAP: 12.68%| mINP: 8.53%\n",
      "feature after BN:   Rank-1: 18.93% | Rank-5: 29.76% | Rank-10: 36.21%| Rank-20: 44.08%| mAP: 19.31%| mINP: 12.55%\n",
      "Test Trial: 3, Thermal to Visible\n",
      "original feature:   Rank-1: 10.92% | Rank-5: 19.03% | Rank-10: 24.81%| Rank-20: 31.31%| mAP: 12.56%| mINP: 8.43%\n",
      "feature after BN:   Rank-1: 11.55% | Rank-5: 20.15% | Rank-10: 25.68%| Rank-20: 38.11%| mAP: 15.01%| mINP: 10.40%\n",
      "Test Trial: 4, Thermal to Visible\n",
      "original feature:   Rank-1: 9.71% | Rank-5: 17.38% | Rank-10: 23.83%| Rank-20: 31.12%| mAP: 12.36%| mINP: 8.07%\n",
      "feature after BN:   Rank-1: 14.13% | Rank-5: 20.68% | Rank-10: 25.53%| Rank-20: 34.17%| mAP: 15.65%| mINP: 10.58%\n",
      "Test Trial: 5, Thermal to Visible\n",
      "original feature:   Rank-1: 11.36% | Rank-5: 19.22% | Rank-10: 25.10%| Rank-20: 32.28%| mAP: 12.18%| mINP: 7.17%\n",
      "feature after BN:   Rank-1: 17.28% | Rank-5: 26.89% | Rank-10: 33.16%| Rank-20: 42.04%| mAP: 16.81%| mINP: 9.74%\n",
      "Test Trial: 6, Thermal to Visible\n",
      "original feature:   Rank-1: 8.83% | Rank-5: 15.78% | Rank-10: 21.17%| Rank-20: 28.59%| mAP: 10.77%| mINP: 7.11%\n",
      "feature after BN:   Rank-1: 13.88% | Rank-5: 21.31% | Rank-10: 27.86%| Rank-20: 37.86%| mAP: 15.84%| mINP: 10.60%\n",
      "Test Trial: 7, Thermal to Visible\n",
      "original feature:   Rank-1: 10.05% | Rank-5: 16.31% | Rank-10: 21.70%| Rank-20: 29.22%| mAP: 11.69%| mINP: 7.43%\n",
      "feature after BN:   Rank-1: 14.51% | Rank-5: 22.86% | Rank-10: 26.94%| Rank-20: 36.26%| mAP: 16.39%| mINP: 10.80%\n",
      "Test Trial: 8, Thermal to Visible\n",
      "original feature:   Rank-1: 10.10% | Rank-5: 16.84% | Rank-10: 21.75%| Rank-20: 28.54%| mAP: 11.16%| mINP: 7.10%\n",
      "feature after BN:   Rank-1: 12.28% | Rank-5: 19.27% | Rank-10: 25.10%| Rank-20: 35.73%| mAP: 15.11%| mINP: 10.66%\n",
      "Test Trial: 9, Thermal to Visible\n",
      "original feature:   Rank-1: 10.19% | Rank-5: 16.55% | Rank-10: 21.21%| Rank-20: 29.03%| mAP: 11.37%| mINP: 7.67%\n",
      "feature after BN:   Rank-1: 13.35% | Rank-5: 22.48% | Rank-10: 28.45%| Rank-20: 38.98%| mAP: 16.01%| mINP: 10.69%\n",
      "Test Trial: 10, Thermal to Visible\n",
      "original feature:   Rank-1: 12.52% | Rank-5: 21.07% | Rank-10: 25.53%| Rank-20: 33.54%| mAP: 13.04%| mINP: 8.22%\n",
      "feature after BN:   Rank-1: 17.62% | Rank-5: 27.91% | Rank-10: 34.03%| Rank-20: 43.25%| mAP: 18.38%| mINP: 11.50%\n",
      "All Average:\n",
      "original feature:   Rank-1: 10.87% | Rank-5: 18.19% | Rank-10: 23.38%| Rank-20: 30.98%| mAP: 12.14%| mINP: 7.75%\n",
      "feature after BN:   Rank-1: 15.37% | Rank-5: 24.24% | Rank-10: 29.95%| Rank-20: 39.41%| mAP: 16.77%| mINP: 10.90%\n"
     ]
    }
   ],
   "source": [
    "%run test.py --dataset regdb --resume baseline_L_S_to_R_p8_n8_lr0.2_sgd_seed_0.pth"
   ]
  },
  {
   "cell_type": "markdown",
   "id": "c4cd2d5e-6e84-471a-bc77-5079d0047376",
   "metadata": {
    "tags": []
   },
   "source": [
    "# Ablation (B+CA)"
   ]
  },
  {
   "cell_type": "markdown",
   "id": "f56f1333-0223-461d-b715-c71f2c640c99",
   "metadata": {},
   "source": [
    "## R+S->L"
   ]
  },
  {
   "cell_type": "code",
   "execution_count": 4,
   "id": "233c8880-df77-48ba-a0f8-39d7827f86e1",
   "metadata": {
    "tags": []
   },
   "outputs": [
    {
     "name": "stdout",
     "output_type": "stream",
     "text": [
      "==> Building model......\n",
      "==> Testing......\n",
      "==> Loading weights from checkpoint......\n",
      "==> best epoch 22\n",
      "Test Trial: 0\n",
      "original feature:   Rank-1: 15.17% | Rank-5: 27.62% | Rank-10: 35.00%| Rank-20: 45.10%| mAP: 19.34%| mINP: 16.79%\n",
      "feature after BN:   Rank-1: 15.24% | Rank-5: 27.98% | Rank-10: 35.79%| Rank-20: 46.19%| mAP: 19.60%| mINP: 17.15%\n",
      "Test Trial: 1\n",
      "original feature:   Rank-1: 13.55% | Rank-5: 26.01% | Rank-10: 34.20%| Rank-20: 44.68%| mAP: 17.95%| mINP: 15.51%\n",
      "feature after BN:   Rank-1: 14.07% | Rank-5: 26.72% | Rank-10: 34.91%| Rank-20: 44.18%| mAP: 18.14%| mINP: 15.38%\n",
      "Test Trial: 2\n",
      "original feature:   Rank-1: 14.08% | Rank-5: 26.84% | Rank-10: 35.17%| Rank-20: 45.23%| mAP: 18.52%| mINP: 16.08%\n",
      "feature after BN:   Rank-1: 14.12% | Rank-5: 27.80% | Rank-10: 36.58%| Rank-20: 46.69%| mAP: 18.95%| mINP: 16.46%\n",
      "Test Trial: 3\n",
      "original feature:   Rank-1: 14.02% | Rank-5: 27.64% | Rank-10: 35.50%| Rank-20: 45.48%| mAP: 18.60%| mINP: 16.13%\n",
      "feature after BN:   Rank-1: 13.87% | Rank-5: 27.10% | Rank-10: 35.33%| Rank-20: 44.91%| mAP: 18.34%| mINP: 15.81%\n",
      "Test Trial: 4\n",
      "original feature:   Rank-1: 14.35% | Rank-5: 27.80% | Rank-10: 35.47%| Rank-20: 45.74%| mAP: 19.06%| mINP: 16.50%\n",
      "feature after BN:   Rank-1: 14.40% | Rank-5: 27.39% | Rank-10: 35.22%| Rank-20: 45.67%| mAP: 18.76%| mINP: 16.08%\n",
      "Test Trial: 5\n",
      "original feature:   Rank-1: 15.39% | Rank-5: 28.06% | Rank-10: 35.65%| Rank-20: 45.74%| mAP: 19.78%| mINP: 17.26%\n",
      "feature after BN:   Rank-1: 15.21% | Rank-5: 28.16% | Rank-10: 36.10%| Rank-20: 45.55%| mAP: 19.70%| mINP: 17.25%\n",
      "Test Trial: 6\n",
      "original feature:   Rank-1: 14.57% | Rank-5: 28.38% | Rank-10: 36.99%| Rank-20: 47.86%| mAP: 19.40%| mINP: 16.93%\n",
      "feature after BN:   Rank-1: 14.33% | Rank-5: 28.30% | Rank-10: 36.67%| Rank-20: 47.68%| mAP: 19.11%| mINP: 16.53%\n",
      "Test Trial: 7\n",
      "original feature:   Rank-1: 14.16% | Rank-5: 27.74% | Rank-10: 35.95%| Rank-20: 45.83%| mAP: 18.72%| mINP: 16.15%\n",
      "feature after BN:   Rank-1: 14.61% | Rank-5: 28.83% | Rank-10: 37.02%| Rank-20: 46.41%| mAP: 18.98%| mINP: 16.21%\n",
      "Test Trial: 8\n",
      "original feature:   Rank-1: 14.61% | Rank-5: 27.70% | Rank-10: 36.21%| Rank-20: 46.04%| mAP: 18.95%| mINP: 16.43%\n",
      "feature after BN:   Rank-1: 14.75% | Rank-5: 28.33% | Rank-10: 36.38%| Rank-20: 46.64%| mAP: 19.21%| mINP: 16.64%\n",
      "Test Trial: 9\n",
      "original feature:   Rank-1: 13.63% | Rank-5: 26.96% | Rank-10: 34.96%| Rank-20: 44.15%| mAP: 18.10%| mINP: 15.56%\n",
      "feature after BN:   Rank-1: 13.40% | Rank-5: 26.65% | Rank-10: 34.72%| Rank-20: 44.56%| mAP: 18.05%| mINP: 15.53%\n",
      "All Average:\n",
      "original feature:   Rank-1: 14.35% | Rank-5: 27.48% | Rank-10: 35.51%| Rank-20: 45.59%| mAP: 18.84%| mINP: 16.33%\n",
      "feature after BN:   Rank-1: 14.40% | Rank-5: 27.73% | Rank-10: 35.87%| Rank-20: 45.85%| mAP: 18.89%| mINP: 16.30%\n"
     ]
    }
   ],
   "source": [
    "%run test.py --dataset llcm --resume baseline_ca_R_S_to_L_p8_n8_lr0.2_sgd_seed_0.pth"
   ]
  },
  {
   "cell_type": "markdown",
   "id": "39478d57-e264-4f2b-a185-8d1e48b3b0fa",
   "metadata": {},
   "source": [
    "## R+L->S"
   ]
  },
  {
   "cell_type": "code",
   "execution_count": 5,
   "id": "0224664a-8bed-4646-aabf-a3fcaf79f39e",
   "metadata": {
    "tags": []
   },
   "outputs": [
    {
     "name": "stdout",
     "output_type": "stream",
     "text": [
      "==> Building model......\n",
      "==> Testing......\n",
      "==> Loading weights from checkpoint......\n",
      "==> best epoch 19\n",
      "Test Trial: 0\n",
      "original feature:   Rank-1: 8.94% | Rank-5: 25.27% | Rank-10: 36.08%| Rank-20: 51.62%| mAP: 9.50%| mINP: 3.55%\n",
      "feature after BN:   Rank-1: 11.52% | Rank-5: 29.13% | Rank-10: 40.84%| Rank-20: 57.03%| mAP: 11.18%| mINP: 3.94%\n",
      "Test Trial: 1\n",
      "original feature:   Rank-1: 7.94% | Rank-5: 23.22% | Rank-10: 35.39%| Rank-20: 50.93%| mAP: 9.44%| mINP: 3.96%\n",
      "feature after BN:   Rank-1: 9.62% | Rank-5: 28.00% | Rank-10: 40.10%| Rank-20: 56.59%| mAP: 10.91%| mINP: 4.44%\n",
      "Test Trial: 2\n",
      "original feature:   Rank-1: 9.73% | Rank-5: 23.59% | Rank-10: 34.79%| Rank-20: 49.46%| mAP: 9.45%| mINP: 3.20%\n",
      "feature after BN:   Rank-1: 11.10% | Rank-5: 28.14% | Rank-10: 39.44%| Rank-20: 53.96%| mAP: 10.78%| mINP: 3.80%\n",
      "Test Trial: 3\n",
      "original feature:   Rank-1: 8.13% | Rank-5: 23.95% | Rank-10: 35.63%| Rank-20: 51.17%| mAP: 9.08%| mINP: 3.76%\n",
      "feature after BN:   Rank-1: 9.47% | Rank-5: 26.66% | Rank-10: 39.36%| Rank-20: 56.09%| mAP: 10.74%| mINP: 4.65%\n",
      "Test Trial: 4\n",
      "original feature:   Rank-1: 7.76% | Rank-5: 22.93% | Rank-10: 34.29%| Rank-20: 50.09%| mAP: 9.42%| mINP: 4.35%\n",
      "feature after BN:   Rank-1: 10.07% | Rank-5: 26.74% | Rank-10: 38.84%| Rank-20: 54.35%| mAP: 10.93%| mINP: 4.67%\n",
      "Test Trial: 5\n",
      "original feature:   Rank-1: 9.89% | Rank-5: 24.19% | Rank-10: 34.97%| Rank-20: 51.54%| mAP: 10.22%| mINP: 4.19%\n",
      "feature after BN:   Rank-1: 10.99% | Rank-5: 26.87% | Rank-10: 38.18%| Rank-20: 54.22%| mAP: 11.01%| mINP: 4.24%\n",
      "Test Trial: 6\n",
      "original feature:   Rank-1: 7.55% | Rank-5: 23.90% | Rank-10: 36.37%| Rank-20: 51.83%| mAP: 9.04%| mINP: 3.53%\n",
      "feature after BN:   Rank-1: 9.65% | Rank-5: 28.21% | Rank-10: 40.97%| Rank-20: 55.14%| mAP: 10.64%| mINP: 4.11%\n",
      "Test Trial: 7\n",
      "original feature:   Rank-1: 8.31% | Rank-5: 23.48% | Rank-10: 34.76%| Rank-20: 49.65%| mAP: 8.71%| mINP: 3.07%\n",
      "feature after BN:   Rank-1: 9.41% | Rank-5: 26.79% | Rank-10: 38.50%| Rank-20: 54.19%| mAP: 9.89%| mINP: 3.61%\n",
      "Test Trial: 8\n",
      "original feature:   Rank-1: 8.36% | Rank-5: 24.06% | Rank-10: 36.34%| Rank-20: 52.51%| mAP: 9.52%| mINP: 3.84%\n",
      "feature after BN:   Rank-1: 8.99% | Rank-5: 25.24% | Rank-10: 36.87%| Rank-20: 53.54%| mAP: 10.36%| mINP: 4.42%\n",
      "Test Trial: 9\n",
      "original feature:   Rank-1: 8.70% | Rank-5: 24.69% | Rank-10: 35.31%| Rank-20: 49.88%| mAP: 9.17%| mINP: 3.40%\n",
      "feature after BN:   Rank-1: 10.18% | Rank-5: 28.87% | Rank-10: 40.28%| Rank-20: 55.38%| mAP: 10.81%| mINP: 4.00%\n",
      "All Average:\n",
      "original feature:   Rank-1: 8.53% | Rank-5: 23.93% | Rank-10: 35.39%| Rank-20: 50.87%| mAP: 9.36%| mINP: 3.69%\n",
      "feature after BN:   Rank-1: 10.10% | Rank-5: 27.47% | Rank-10: 39.34%| Rank-20: 55.05%| mAP: 10.73%| mINP: 4.19%\n"
     ]
    }
   ],
   "source": [
    "%run test.py --dataset sysu --resume baseline_ca_R_L_to_S_p8_n8_lr0.2_sgd_seed_0.pth"
   ]
  },
  {
   "cell_type": "markdown",
   "id": "4a791a38-1eb2-475b-8755-774d2010bfe5",
   "metadata": {},
   "source": [
    "## L+S->R"
   ]
  },
  {
   "cell_type": "code",
   "execution_count": 1,
   "id": "f597e2c4-5db9-4227-8fae-e0069694c732",
   "metadata": {
    "tags": []
   },
   "outputs": [
    {
     "name": "stdout",
     "output_type": "stream",
     "text": [
      "==> Building model......\n",
      "==> Testing......\n",
      "==> Loading weights from checkpoint......\n",
      "==> best epoch 9\n",
      "Test Trial: 1, Thermal to Visible\n",
      "original feature:   Rank-1: 14.42% | Rank-5: 25.39% | Rank-10: 32.14%| Rank-20: 41.99%| mAP: 15.44%| mINP: 9.09%\n",
      "feature after BN:   Rank-1: 19.47% | Rank-5: 28.30% | Rank-10: 34.17%| Rank-20: 42.57%| mAP: 18.96%| mINP: 11.87%\n",
      "Test Trial: 2, Thermal to Visible\n",
      "original feature:   Rank-1: 13.45% | Rank-5: 24.22% | Rank-10: 32.23%| Rank-20: 42.82%| mAP: 13.85%| mINP: 7.84%\n",
      "feature after BN:   Rank-1: 16.46% | Rank-5: 25.73% | Rank-10: 33.20%| Rank-20: 43.88%| mAP: 17.05%| mINP: 10.83%\n",
      "Test Trial: 3, Thermal to Visible\n",
      "original feature:   Rank-1: 12.96% | Rank-5: 24.22% | Rank-10: 31.84%| Rank-20: 41.21%| mAP: 13.66%| mINP: 7.77%\n",
      "feature after BN:   Rank-1: 15.39% | Rank-5: 24.56% | Rank-10: 31.99%| Rank-20: 41.84%| mAP: 16.56%| mINP: 10.88%\n",
      "Test Trial: 4, Thermal to Visible\n",
      "original feature:   Rank-1: 14.95% | Rank-5: 24.85% | Rank-10: 31.41%| Rank-20: 42.82%| mAP: 15.24%| mINP: 9.07%\n",
      "feature after BN:   Rank-1: 18.35% | Rank-5: 26.99% | Rank-10: 33.25%| Rank-20: 43.64%| mAP: 18.04%| mINP: 11.56%\n",
      "Test Trial: 5, Thermal to Visible\n",
      "original feature:   Rank-1: 11.65% | Rank-5: 22.48% | Rank-10: 30.78%| Rank-20: 42.48%| mAP: 12.68%| mINP: 7.30%\n",
      "feature after BN:   Rank-1: 16.46% | Rank-5: 26.21% | Rank-10: 32.52%| Rank-20: 41.31%| mAP: 15.77%| mINP: 9.42%\n",
      "Test Trial: 6, Thermal to Visible\n",
      "original feature:   Rank-1: 14.03% | Rank-5: 24.32% | Rank-10: 31.60%| Rank-20: 40.68%| mAP: 15.22%| mINP: 9.22%\n",
      "feature after BN:   Rank-1: 17.52% | Rank-5: 25.78% | Rank-10: 31.99%| Rank-20: 41.75%| mAP: 17.52%| mINP: 11.38%\n",
      "Test Trial: 7, Thermal to Visible\n",
      "original feature:   Rank-1: 12.91% | Rank-5: 24.32% | Rank-10: 32.09%| Rank-20: 44.56%| mAP: 13.93%| mINP: 7.98%\n",
      "feature after BN:   Rank-1: 16.46% | Rank-5: 26.41% | Rank-10: 33.35%| Rank-20: 41.65%| mAP: 17.44%| mINP: 11.56%\n",
      "Test Trial: 8, Thermal to Visible\n",
      "original feature:   Rank-1: 14.61% | Rank-5: 26.02% | Rank-10: 33.25%| Rank-20: 42.48%| mAP: 15.04%| mINP: 8.64%\n",
      "feature after BN:   Rank-1: 17.28% | Rank-5: 26.84% | Rank-10: 33.20%| Rank-20: 42.86%| mAP: 17.80%| mINP: 11.40%\n",
      "Test Trial: 9, Thermal to Visible\n",
      "original feature:   Rank-1: 16.31% | Rank-5: 27.43% | Rank-10: 36.26%| Rank-20: 46.99%| mAP: 16.66%| mINP: 9.75%\n",
      "feature after BN:   Rank-1: 20.24% | Rank-5: 29.76% | Rank-10: 36.89%| Rank-20: 46.60%| mAP: 19.58%| mINP: 12.12%\n",
      "Test Trial: 10, Thermal to Visible\n",
      "original feature:   Rank-1: 13.74% | Rank-5: 23.98% | Rank-10: 33.06%| Rank-20: 45.78%| mAP: 14.93%| mINP: 9.15%\n",
      "feature after BN:   Rank-1: 18.45% | Rank-5: 27.14% | Rank-10: 35.19%| Rank-20: 46.12%| mAP: 18.64%| mINP: 12.11%\n",
      "All Average:\n",
      "original feature:   Rank-1: 13.90% | Rank-5: 24.72% | Rank-10: 32.47%| Rank-20: 43.18%| mAP: 14.67%| mINP: 8.58%\n",
      "feature after BN:   Rank-1: 17.61% | Rank-5: 26.77% | Rank-10: 33.58%| Rank-20: 43.22%| mAP: 17.73%| mINP: 11.31%\n"
     ]
    }
   ],
   "source": [
    "%run test.py --dataset regdb --resume baseline_ca_L_S_to_R_p8_n8_lr0.2_sgd_seed_0.pth"
   ]
  }
 ],
 "metadata": {
  "kernelspec": {
   "display_name": "Python 3 (ipykernel)",
   "language": "python",
   "name": "python3"
  },
  "language_info": {
   "codemirror_mode": {
    "name": "ipython",
    "version": 3
   },
   "file_extension": ".py",
   "mimetype": "text/x-python",
   "name": "python",
   "nbconvert_exporter": "python",
   "pygments_lexer": "ipython3",
   "version": "3.8.10"
  }
 },
 "nbformat": 4,
 "nbformat_minor": 5
}

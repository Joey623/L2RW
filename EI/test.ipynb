{
 "cells": [
  {
   "cell_type": "markdown",
   "id": "d8a1c66c-d21a-4feb-9f4f-373026a8651d",
   "metadata": {},
   "source": [
    "## R+S->L"
   ]
  },
  {
   "cell_type": "code",
   "execution_count": 1,
   "id": "f66076be-e351-4ef7-bfe4-50cc1ed7ad24",
   "metadata": {
    "tags": []
   },
   "outputs": [
    {
     "name": "stdout",
     "output_type": "stream",
     "text": [
      "==> Building model......\n",
      "==> Testing......\n",
      "==> Loading weights from checkpoint......\n",
      "==> best epoch 19\n",
      "Test Trial: 0\n",
      "original feature:   Rank-1: 15.29% | Rank-5: 29.07% | Rank-10: 37.37%| Rank-20: 47.08%| mAP: 19.74%| mINP: 17.03%\n",
      "feature after BN:   Rank-1: 14.55% | Rank-5: 28.37% | Rank-10: 37.04%| Rank-20: 47.77%| mAP: 19.35%| mINP: 16.85%\n",
      "Test Trial: 1\n",
      "original feature:   Rank-1: 14.78% | Rank-5: 27.77% | Rank-10: 36.03%| Rank-20: 46.37%| mAP: 19.00%| mINP: 16.27%\n",
      "feature after BN:   Rank-1: 14.85% | Rank-5: 28.40% | Rank-10: 37.12%| Rank-20: 46.71%| mAP: 19.07%| mINP: 16.21%\n",
      "Test Trial: 2\n",
      "original feature:   Rank-1: 14.44% | Rank-5: 27.97% | Rank-10: 36.78%| Rank-20: 47.08%| mAP: 19.00%| mINP: 16.27%\n",
      "feature after BN:   Rank-1: 13.93% | Rank-5: 28.23% | Rank-10: 37.43%| Rank-20: 48.42%| mAP: 18.72%| mINP: 16.02%\n",
      "Test Trial: 3\n",
      "original feature:   Rank-1: 14.18% | Rank-5: 27.53% | Rank-10: 35.68%| Rank-20: 46.22%| mAP: 18.58%| mINP: 16.04%\n",
      "feature after BN:   Rank-1: 14.01% | Rank-5: 27.62% | Rank-10: 36.24%| Rank-20: 46.93%| mAP: 18.64%| mINP: 15.98%\n",
      "Test Trial: 4\n",
      "original feature:   Rank-1: 15.38% | Rank-5: 29.01% | Rank-10: 37.09%| Rank-20: 47.54%| mAP: 19.83%| mINP: 17.10%\n",
      "feature after BN:   Rank-1: 14.96% | Rank-5: 28.83% | Rank-10: 37.32%| Rank-20: 48.33%| mAP: 19.53%| mINP: 16.78%\n",
      "Test Trial: 5\n",
      "original feature:   Rank-1: 15.64% | Rank-5: 29.88% | Rank-10: 38.26%| Rank-20: 48.16%| mAP: 20.36%| mINP: 17.84%\n",
      "feature after BN:   Rank-1: 15.32% | Rank-5: 29.10% | Rank-10: 37.93%| Rank-20: 47.61%| mAP: 19.88%| mINP: 17.30%\n",
      "Test Trial: 6\n",
      "original feature:   Rank-1: 15.00% | Rank-5: 29.29% | Rank-10: 38.14%| Rank-20: 48.53%| mAP: 19.68%| mINP: 16.90%\n",
      "feature after BN:   Rank-1: 14.99% | Rank-5: 28.65% | Rank-10: 37.62%| Rank-20: 48.20%| mAP: 19.41%| mINP: 16.51%\n",
      "Test Trial: 7\n",
      "original feature:   Rank-1: 15.28% | Rank-5: 29.18% | Rank-10: 37.72%| Rank-20: 47.43%| mAP: 19.43%| mINP: 16.62%\n",
      "feature after BN:   Rank-1: 14.50% | Rank-5: 29.01% | Rank-10: 37.54%| Rank-20: 48.00%| mAP: 19.05%| mINP: 16.29%\n",
      "Test Trial: 8\n",
      "original feature:   Rank-1: 15.22% | Rank-5: 28.50% | Rank-10: 37.09%| Rank-20: 47.25%| mAP: 19.43%| mINP: 16.76%\n",
      "feature after BN:   Rank-1: 15.11% | Rank-5: 28.45% | Rank-10: 36.41%| Rank-20: 46.44%| mAP: 19.34%| mINP: 16.57%\n",
      "Test Trial: 9\n",
      "original feature:   Rank-1: 14.61% | Rank-5: 27.28% | Rank-10: 35.45%| Rank-20: 45.99%| mAP: 18.59%| mINP: 15.79%\n",
      "feature after BN:   Rank-1: 14.08% | Rank-5: 27.18% | Rank-10: 35.70%| Rank-20: 45.98%| mAP: 18.54%| mINP: 15.90%\n",
      "All Average:\n",
      "original feature:   Rank-1: 14.98% | Rank-5: 28.55% | Rank-10: 36.96%| Rank-20: 47.17%| mAP: 19.36%| mINP: 16.66%\n",
      "feature after BN:   Rank-1: 14.63% | Rank-5: 28.38% | Rank-10: 37.03%| Rank-20: 47.44%| mAP: 19.15%| mINP: 16.44%\n"
     ]
    }
   ],
   "source": [
    "%run test.py --dataset llcm --resume final_R_S_to_L_p8_n8_lr0.2_sgd_seed_0.pth"
   ]
  },
  {
   "cell_type": "markdown",
   "id": "753287f9-07de-4bfe-bec5-bfdba13d41f3",
   "metadata": {},
   "source": [
    "## R+L->S"
   ]
  },
  {
   "cell_type": "code",
   "execution_count": 2,
   "id": "7a704c49-6212-4edf-9e74-b752f37e288d",
   "metadata": {
    "tags": []
   },
   "outputs": [
    {
     "name": "stdout",
     "output_type": "stream",
     "text": [
      "==> Building model......\n",
      "==> Testing......\n",
      "==> Loading weights from checkpoint......\n",
      "==> best epoch 26\n",
      "Test Trial: 0\n",
      "original feature:   Rank-1: 11.25% | Rank-5: 27.98% | Rank-10: 39.97%| Rank-20: 56.32%| mAP: 11.10%| mINP: 4.44%\n",
      "feature after BN:   Rank-1: 12.36% | Rank-5: 29.61% | Rank-10: 42.78%| Rank-20: 59.19%| mAP: 12.14%| mINP: 5.06%\n",
      "Test Trial: 1\n",
      "original feature:   Rank-1: 10.33% | Rank-5: 26.64% | Rank-10: 38.97%| Rank-20: 54.46%| mAP: 11.06%| mINP: 4.73%\n",
      "feature after BN:   Rank-1: 9.39% | Rank-5: 26.69% | Rank-10: 39.78%| Rank-20: 56.43%| mAP: 11.29%| mINP: 5.52%\n",
      "Test Trial: 2\n",
      "original feature:   Rank-1: 10.57% | Rank-5: 27.48% | Rank-10: 39.86%| Rank-20: 53.67%| mAP: 10.52%| mINP: 3.57%\n",
      "feature after BN:   Rank-1: 11.25% | Rank-5: 28.58% | Rank-10: 40.44%| Rank-20: 55.38%| mAP: 11.42%| mINP: 4.76%\n",
      "Test Trial: 3\n",
      "original feature:   Rank-1: 9.36% | Rank-5: 26.90% | Rank-10: 39.42%| Rank-20: 54.90%| mAP: 10.18%| mINP: 4.38%\n",
      "feature after BN:   Rank-1: 10.97% | Rank-5: 27.00% | Rank-10: 40.99%| Rank-20: 57.06%| mAP: 11.81%| mINP: 6.13%\n",
      "Test Trial: 4\n",
      "original feature:   Rank-1: 11.52% | Rank-5: 26.61% | Rank-10: 37.10%| Rank-20: 52.72%| mAP: 11.12%| mINP: 4.45%\n",
      "feature after BN:   Rank-1: 11.99% | Rank-5: 29.40% | Rank-10: 42.65%| Rank-20: 58.51%| mAP: 12.52%| mINP: 5.44%\n",
      "Test Trial: 5\n",
      "original feature:   Rank-1: 11.78% | Rank-5: 29.06% | Rank-10: 40.63%| Rank-20: 56.09%| mAP: 11.49%| mINP: 4.32%\n",
      "feature after BN:   Rank-1: 12.17% | Rank-5: 29.92% | Rank-10: 41.23%| Rank-20: 56.69%| mAP: 12.72%| mINP: 6.00%\n",
      "Test Trial: 6\n",
      "original feature:   Rank-1: 11.33% | Rank-5: 29.40% | Rank-10: 39.31%| Rank-20: 53.96%| mAP: 11.06%| mINP: 4.17%\n",
      "feature after BN:   Rank-1: 11.57% | Rank-5: 29.48% | Rank-10: 41.18%| Rank-20: 56.22%| mAP: 12.13%| mINP: 5.36%\n",
      "Test Trial: 7\n",
      "original feature:   Rank-1: 10.47% | Rank-5: 27.08% | Rank-10: 40.18%| Rank-20: 56.51%| mAP: 9.97%| mINP: 3.38%\n",
      "feature after BN:   Rank-1: 10.75% | Rank-5: 27.00% | Rank-10: 39.52%| Rank-20: 56.43%| mAP: 10.76%| mINP: 4.50%\n",
      "Test Trial: 8\n",
      "original feature:   Rank-1: 10.89% | Rank-5: 26.64% | Rank-10: 39.15%| Rank-20: 53.22%| mAP: 11.00%| mINP: 4.70%\n",
      "feature after BN:   Rank-1: 10.33% | Rank-5: 27.85% | Rank-10: 40.65%| Rank-20: 56.32%| mAP: 11.55%| mINP: 5.56%\n",
      "Test Trial: 9\n",
      "original feature:   Rank-1: 10.60% | Rank-5: 28.27% | Rank-10: 39.99%| Rank-20: 55.67%| mAP: 10.66%| mINP: 4.10%\n",
      "feature after BN:   Rank-1: 11.91% | Rank-5: 29.40% | Rank-10: 42.76%| Rank-20: 59.11%| mAP: 12.29%| mINP: 5.09%\n",
      "All Average:\n",
      "original feature:   Rank-1: 10.81% | Rank-5: 27.60% | Rank-10: 39.46%| Rank-20: 54.75%| mAP: 10.82%| mINP: 4.22%\n",
      "feature after BN:   Rank-1: 11.27% | Rank-5: 28.49% | Rank-10: 41.20%| Rank-20: 57.13%| mAP: 11.86%| mINP: 5.34%\n"
     ]
    }
   ],
   "source": [
    "%run test.py --dataset sysu --resume final_R_L_to_S_p8_n8_lr0.2_sgd_seed_0.pth"
   ]
  },
  {
   "cell_type": "markdown",
   "id": "71f1dd39-3287-4ba9-8d19-293a85379fa8",
   "metadata": {},
   "source": [
    "## L+S->R"
   ]
  },
  {
   "cell_type": "code",
   "execution_count": 3,
   "id": "7673551f-6d34-4306-bb0d-c481cf3b811e",
   "metadata": {
    "tags": []
   },
   "outputs": [
    {
     "name": "stdout",
     "output_type": "stream",
     "text": [
      "==> Building model......\n",
      "==> Testing......\n",
      "==> Loading weights from checkpoint......\n",
      "==> best epoch 5\n",
      "Test Trial: 1, Thermal to Visible\n",
      "original feature:   Rank-1: 19.90% | Rank-5: 31.84% | Rank-10: 37.96%| Rank-20: 46.65%| mAP: 19.32%| mINP: 11.90%\n",
      "feature after BN:   Rank-1: 22.52% | Rank-5: 34.90% | Rank-10: 40.39%| Rank-20: 48.98%| mAP: 21.68%| mINP: 13.26%\n",
      "Test Trial: 2, Thermal to Visible\n",
      "original feature:   Rank-1: 21.07% | Rank-5: 32.14% | Rank-10: 39.22%| Rank-20: 48.20%| mAP: 19.81%| mINP: 11.47%\n",
      "feature after BN:   Rank-1: 21.55% | Rank-5: 34.47% | Rank-10: 41.84%| Rank-20: 51.21%| mAP: 21.16%| mINP: 12.76%\n",
      "Test Trial: 3, Thermal to Visible\n",
      "original feature:   Rank-1: 18.93% | Rank-5: 29.56% | Rank-10: 36.55%| Rank-20: 44.95%| mAP: 17.96%| mINP: 10.72%\n",
      "feature after BN:   Rank-1: 19.66% | Rank-5: 31.36% | Rank-10: 38.74%| Rank-20: 46.50%| mAP: 19.39%| mINP: 12.00%\n",
      "Test Trial: 4, Thermal to Visible\n",
      "original feature:   Rank-1: 20.97% | Rank-5: 30.53% | Rank-10: 37.04%| Rank-20: 44.81%| mAP: 19.33%| mINP: 11.82%\n",
      "feature after BN:   Rank-1: 20.44% | Rank-5: 30.63% | Rank-10: 37.72%| Rank-20: 47.67%| mAP: 19.74%| mINP: 12.50%\n",
      "Test Trial: 5, Thermal to Visible\n",
      "original feature:   Rank-1: 17.18% | Rank-5: 28.06% | Rank-10: 34.81%| Rank-20: 42.57%| mAP: 17.21%| mINP: 10.17%\n",
      "feature after BN:   Rank-1: 20.39% | Rank-5: 32.28% | Rank-10: 38.50%| Rank-20: 47.43%| mAP: 19.68%| mINP: 12.25%\n",
      "Test Trial: 6, Thermal to Visible\n",
      "original feature:   Rank-1: 20.19% | Rank-5: 30.15% | Rank-10: 35.68%| Rank-20: 43.93%| mAP: 19.89%| mINP: 11.36%\n",
      "feature after BN:   Rank-1: 21.70% | Rank-5: 33.54% | Rank-10: 40.53%| Rank-20: 47.82%| mAP: 21.16%| mINP: 13.09%\n",
      "Test Trial: 7, Thermal to Visible\n",
      "original feature:   Rank-1: 19.08% | Rank-5: 30.39% | Rank-10: 37.86%| Rank-20: 46.17%| mAP: 18.23%| mINP: 10.86%\n",
      "feature after BN:   Rank-1: 21.41% | Rank-5: 33.35% | Rank-10: 39.76%| Rank-20: 47.86%| mAP: 20.12%| mINP: 12.77%\n",
      "Test Trial: 8, Thermal to Visible\n",
      "original feature:   Rank-1: 18.40% | Rank-5: 29.42% | Rank-10: 36.36%| Rank-20: 46.41%| mAP: 18.28%| mINP: 11.09%\n",
      "feature after BN:   Rank-1: 20.00% | Rank-5: 31.36% | Rank-10: 39.81%| Rank-20: 49.03%| mAP: 19.84%| mINP: 12.81%\n",
      "Test Trial: 9, Thermal to Visible\n",
      "original feature:   Rank-1: 22.91% | Rank-5: 33.25% | Rank-10: 39.56%| Rank-20: 48.16%| mAP: 20.31%| mINP: 12.07%\n",
      "feature after BN:   Rank-1: 23.88% | Rank-5: 36.31% | Rank-10: 42.82%| Rank-20: 52.67%| mAP: 22.40%| mINP: 13.70%\n",
      "Test Trial: 10, Thermal to Visible\n",
      "original feature:   Rank-1: 21.12% | Rank-5: 33.30% | Rank-10: 41.12%| Rank-20: 51.89%| mAP: 20.35%| mINP: 11.16%\n",
      "feature after BN:   Rank-1: 23.88% | Rank-5: 35.39% | Rank-10: 43.64%| Rank-20: 54.47%| mAP: 22.01%| mINP: 12.64%\n",
      "All Average:\n",
      "original feature:   Rank-1: 19.98% | Rank-5: 30.86% | Rank-10: 37.62%| Rank-20: 46.37%| mAP: 19.07%| mINP: 11.26%\n",
      "feature after BN:   Rank-1: 21.54% | Rank-5: 33.36% | Rank-10: 40.37%| Rank-20: 49.36%| mAP: 20.72%| mINP: 12.78%\n"
     ]
    }
   ],
   "source": [
    "%run test.py --dataset regdb --resume final_L_S_to_R_p8_n8_lr0.2_sgd_seed_0.pth"
   ]
  }
 ],
 "metadata": {
  "kernelspec": {
   "display_name": "Python 3 (ipykernel)",
   "language": "python",
   "name": "python3"
  },
  "language_info": {
   "codemirror_mode": {
    "name": "ipython",
    "version": 3
   },
   "file_extension": ".py",
   "mimetype": "text/x-python",
   "name": "python",
   "nbconvert_exporter": "python",
   "pygments_lexer": "ipython3",
   "version": "3.8.10"
  }
 },
 "nbformat": 4,
 "nbformat_minor": 5
}

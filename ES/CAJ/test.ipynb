{
 "cells": [
  {
   "cell_type": "markdown",
   "id": "d8a1c66c-d21a-4feb-9f4f-373026a8651d",
   "metadata": {},
   "source": [
    "## R+S->L"
   ]
  },
  {
   "cell_type": "code",
   "execution_count": 1,
   "id": "f66076be-e351-4ef7-bfe4-50cc1ed7ad24",
   "metadata": {
    "tags": []
   },
   "outputs": [
    {
     "name": "stdout",
     "output_type": "stream",
     "text": [
      "==> Building model......\n",
      "==> Testing......\n",
      "==> Loading weights from checkpoint......\n",
      "==> best epoch 25\n",
      "LLCM Test Trial: 0\n",
      "original feature:   Rank-1: 6.59% | Rank-5: 15.43% | Rank-10: 21.06%| Rank-20: 29.49%| mAP: 9.55%| mINP: 7.55%\n",
      "feature after BN:   Rank-1: 11.74% | Rank-5: 23.29% | Rank-10: 30.74%| Rank-20: 40.78%| mAP: 15.22%| mINP: 12.45%\n",
      "LLCM Test Trial: 1\n",
      "original feature:   Rank-1: 5.87% | Rank-5: 15.25% | Rank-10: 21.71%| Rank-20: 31.31%| mAP: 9.11%| mINP: 6.98%\n",
      "feature after BN:   Rank-1: 11.44% | Rank-5: 23.39% | Rank-10: 31.23%| Rank-20: 41.22%| mAP: 15.14%| mINP: 12.18%\n",
      "LLCM Test Trial: 2\n",
      "original feature:   Rank-1: 6.04% | Rank-5: 15.95% | Rank-10: 23.03%| Rank-20: 32.60%| mAP: 9.68%| mINP: 7.64%\n",
      "feature after BN:   Rank-1: 10.79% | Rank-5: 22.68% | Rank-10: 30.85%| Rank-20: 41.03%| mAP: 14.48%| mINP: 11.48%\n",
      "LLCM Test Trial: 3\n",
      "original feature:   Rank-1: 6.39% | Rank-5: 16.08% | Rank-10: 22.01%| Rank-20: 31.05%| mAP: 9.64%| mINP: 7.47%\n",
      "feature after BN:   Rank-1: 11.68% | Rank-5: 24.10% | Rank-10: 31.78%| Rank-20: 41.12%| mAP: 15.41%| mINP: 12.37%\n",
      "LLCM Test Trial: 4\n",
      "original feature:   Rank-1: 6.03% | Rank-5: 15.02% | Rank-10: 21.21%| Rank-20: 29.95%| mAP: 9.18%| mINP: 7.27%\n",
      "feature after BN:   Rank-1: 11.02% | Rank-5: 22.98% | Rank-10: 31.23%| Rank-20: 41.89%| mAP: 14.59%| mINP: 11.55%\n",
      "LLCM Test Trial: 5\n",
      "original feature:   Rank-1: 6.08% | Rank-5: 14.72% | Rank-10: 21.13%| Rank-20: 29.85%| mAP: 9.15%| mINP: 7.25%\n",
      "feature after BN:   Rank-1: 11.29% | Rank-5: 22.80% | Rank-10: 30.71%| Rank-20: 40.86%| mAP: 14.76%| mINP: 11.88%\n",
      "LLCM Test Trial: 6\n",
      "original feature:   Rank-1: 6.48% | Rank-5: 15.28% | Rank-10: 21.49%| Rank-20: 31.01%| mAP: 9.61%| mINP: 7.46%\n",
      "feature after BN:   Rank-1: 11.68% | Rank-5: 24.11% | Rank-10: 32.28%| Rank-20: 42.53%| mAP: 15.38%| mINP: 12.31%\n",
      "LLCM Test Trial: 7\n",
      "original feature:   Rank-1: 6.21% | Rank-5: 15.21% | Rank-10: 21.67%| Rank-20: 30.71%| mAP: 9.37%| mINP: 7.27%\n",
      "feature after BN:   Rank-1: 11.51% | Rank-5: 24.13% | Rank-10: 32.03%| Rank-20: 41.88%| mAP: 15.27%| mINP: 12.39%\n",
      "LLCM Test Trial: 8\n",
      "original feature:   Rank-1: 6.32% | Rank-5: 15.57% | Rank-10: 22.69%| Rank-20: 32.79%| mAP: 9.71%| mINP: 7.70%\n",
      "feature after BN:   Rank-1: 11.40% | Rank-5: 24.17% | Rank-10: 31.79%| Rank-20: 42.51%| mAP: 15.57%| mINP: 12.85%\n",
      "LLCM Test Trial: 9\n",
      "original feature:   Rank-1: 6.50% | Rank-5: 15.32% | Rank-10: 21.23%| Rank-20: 30.00%| mAP: 9.35%| mINP: 7.12%\n",
      "feature after BN:   Rank-1: 10.94% | Rank-5: 22.31% | Rank-10: 29.07%| Rank-20: 39.13%| mAP: 14.51%| mINP: 11.56%\n",
      "All Average:\n",
      "original feature:   Rank-1: 6.25% | Rank-5: 15.38% | Rank-10: 21.72%| Rank-20: 30.88%| mAP: 9.44%| mINP: 7.37%\n",
      "feature after BN:   Rank-1: 11.35% | Rank-5: 23.40% | Rank-10: 31.17%| Rank-20: 41.30%| mAP: 15.03%| mINP: 12.10%\n"
     ]
    }
   ],
   "source": [
    "%run test.py --protocol R_S_to_L --resume R_S_to_L_caj_p8_n4_lr_0.1_seed_0_best.pth"
   ]
  },
  {
   "cell_type": "markdown",
   "id": "753287f9-07de-4bfe-bec5-bfdba13d41f3",
   "metadata": {},
   "source": [
    "## R+L->S"
   ]
  },
  {
   "cell_type": "code",
   "execution_count": 2,
   "id": "7a704c49-6212-4edf-9e74-b752f37e288d",
   "metadata": {
    "tags": []
   },
   "outputs": [
    {
     "name": "stdout",
     "output_type": "stream",
     "text": [
      "==> Building model......\n",
      "==> Testing......\n",
      "==> Loading weights from checkpoint......\n",
      "==> best epoch 27\n",
      "SYSU Test Trial: 0\n",
      "original feature:   Rank-1: 8.36% | Rank-5: 24.40% | Rank-10: 38.00%| Rank-20: 55.46%| mAP: 9.90%| mINP: 4.22%\n",
      "feature after BN:   Rank-1: 13.41% | Rank-5: 31.26% | Rank-10: 43.39%| Rank-20: 59.53%| mAP: 12.30%| mINP: 4.39%\n",
      "SYSU Test Trial: 1\n",
      "original feature:   Rank-1: 7.39% | Rank-5: 22.59% | Rank-10: 35.79%| Rank-20: 52.88%| mAP: 9.82%| mINP: 4.83%\n",
      "feature after BN:   Rank-1: 9.89% | Rank-5: 27.90% | Rank-10: 39.68%| Rank-20: 57.43%| mAP: 11.28%| mINP: 4.67%\n",
      "SYSU Test Trial: 2\n",
      "original feature:   Rank-1: 6.10% | Rank-5: 20.04% | Rank-10: 33.61%| Rank-20: 52.38%| mAP: 8.42%| mINP: 3.52%\n",
      "feature after BN:   Rank-1: 10.68% | Rank-5: 27.90% | Rank-10: 40.49%| Rank-20: 56.72%| mAP: 10.67%| mINP: 4.10%\n",
      "SYSU Test Trial: 3\n",
      "original feature:   Rank-1: 7.52% | Rank-5: 22.80% | Rank-10: 35.73%| Rank-20: 54.46%| mAP: 9.49%| mINP: 4.13%\n",
      "feature after BN:   Rank-1: 9.28% | Rank-5: 26.87% | Rank-10: 40.23%| Rank-20: 58.14%| mAP: 10.92%| mINP: 4.67%\n",
      "SYSU Test Trial: 4\n",
      "original feature:   Rank-1: 7.49% | Rank-5: 20.12% | Rank-10: 31.58%| Rank-20: 50.33%| mAP: 9.17%| mINP: 4.43%\n",
      "feature after BN:   Rank-1: 10.28% | Rank-5: 25.37% | Rank-10: 37.58%| Rank-20: 54.09%| mAP: 10.84%| mINP: 4.84%\n",
      "SYSU Test Trial: 5\n",
      "original feature:   Rank-1: 7.20% | Rank-5: 23.06% | Rank-10: 35.68%| Rank-20: 52.25%| mAP: 9.51%| mINP: 4.61%\n",
      "feature after BN:   Rank-1: 11.91% | Rank-5: 28.48% | Rank-10: 40.49%| Rank-20: 56.38%| mAP: 11.56%| mINP: 4.70%\n",
      "SYSU Test Trial: 6\n",
      "original feature:   Rank-1: 8.02% | Rank-5: 24.48% | Rank-10: 36.60%| Rank-20: 54.14%| mAP: 9.77%| mINP: 4.21%\n",
      "feature after BN:   Rank-1: 11.39% | Rank-5: 29.19% | Rank-10: 41.65%| Rank-20: 57.35%| mAP: 11.39%| mINP: 4.18%\n",
      "SYSU Test Trial: 7\n",
      "original feature:   Rank-1: 6.89% | Rank-5: 21.82% | Rank-10: 33.24%| Rank-20: 50.96%| mAP: 8.76%| mINP: 4.02%\n",
      "feature after BN:   Rank-1: 10.78% | Rank-5: 27.48% | Rank-10: 40.39%| Rank-20: 56.06%| mAP: 10.54%| mINP: 3.66%\n",
      "SYSU Test Trial: 8\n",
      "original feature:   Rank-1: 7.34% | Rank-5: 22.98% | Rank-10: 35.79%| Rank-20: 53.01%| mAP: 9.20%| mINP: 3.99%\n",
      "feature after BN:   Rank-1: 9.02% | Rank-5: 26.87% | Rank-10: 39.73%| Rank-20: 56.51%| mAP: 10.49%| mINP: 4.35%\n",
      "SYSU Test Trial: 9\n",
      "original feature:   Rank-1: 8.73% | Rank-5: 24.64% | Rank-10: 37.00%| Rank-20: 53.64%| mAP: 10.56%| mINP: 4.82%\n",
      "feature after BN:   Rank-1: 12.41% | Rank-5: 29.87% | Rank-10: 42.07%| Rank-20: 57.51%| mAP: 11.78%| mINP: 4.36%\n",
      "All Average:\n",
      "original feature:   Rank-1: 7.50% | Rank-5: 22.69% | Rank-10: 35.30%| Rank-20: 52.95%| mAP: 9.46%| mINP: 4.28%\n",
      "feature after BN:   Rank-1: 10.90% | Rank-5: 28.12% | Rank-10: 40.57%| Rank-20: 56.97%| mAP: 11.18%| mINP: 4.39%\n"
     ]
    }
   ],
   "source": [
    "%run test.py --protocol R_L_to_S --resume R_L_to_S_caj_p8_n4_lr_0.1_seed_0_best.pth"
   ]
  },
  {
   "cell_type": "markdown",
   "id": "71f1dd39-3287-4ba9-8d19-293a85379fa8",
   "metadata": {},
   "source": [
    "## L+S->R"
   ]
  },
  {
   "cell_type": "code",
   "execution_count": 3,
   "id": "7673551f-6d34-4306-bb0d-c481cf3b811e",
   "metadata": {
    "tags": []
   },
   "outputs": [
    {
     "name": "stdout",
     "output_type": "stream",
     "text": [
      "==> Building model......\n",
      "==> Testing......\n",
      "==> Loading weights from checkpoint......\n",
      "==> best epoch 19\n",
      "RegDB Test Trial: 1, Thermal to Visible\n",
      "original feature:   Rank-1: 4.76% | Rank-5: 12.04% | Rank-10: 16.55%| Rank-20: 22.38%| mAP: 6.55%| mINP: 3.71%\n",
      "feature after BN:   Rank-1: 22.14% | Rank-5: 35.44% | Rank-10: 43.64%| Rank-20: 52.82%| mAP: 21.25%| mINP: 12.97%\n",
      "RegDB Test Trial: 2, Thermal to Visible\n",
      "original feature:   Rank-1: 5.63% | Rank-5: 12.38% | Rank-10: 17.57%| Rank-20: 24.47%| mAP: 6.84%| mINP: 4.05%\n",
      "feature after BN:   Rank-1: 19.56% | Rank-5: 33.06% | Rank-10: 41.46%| Rank-20: 52.18%| mAP: 18.75%| mINP: 10.54%\n",
      "RegDB Test Trial: 3, Thermal to Visible\n",
      "original feature:   Rank-1: 4.71% | Rank-5: 12.43% | Rank-10: 17.04%| Rank-20: 23.30%| mAP: 6.95%| mINP: 4.20%\n",
      "feature after BN:   Rank-1: 14.27% | Rank-5: 27.48% | Rank-10: 37.04%| Rank-20: 49.47%| mAP: 16.16%| mINP: 9.44%\n",
      "RegDB Test Trial: 4, Thermal to Visible\n",
      "original feature:   Rank-1: 3.83% | Rank-5: 9.51% | Rank-10: 14.56%| Rank-20: 19.90%| mAP: 5.92%| mINP: 3.58%\n",
      "feature after BN:   Rank-1: 14.85% | Rank-5: 25.49% | Rank-10: 33.59%| Rank-20: 45.68%| mAP: 16.62%| mINP: 10.79%\n",
      "RegDB Test Trial: 5, Thermal to Visible\n",
      "original feature:   Rank-1: 5.34% | Rank-5: 12.62% | Rank-10: 16.80%| Rank-20: 22.52%| mAP: 7.49%| mINP: 4.55%\n",
      "feature after BN:   Rank-1: 15.19% | Rank-5: 26.60% | Rank-10: 36.26%| Rank-20: 48.83%| mAP: 16.02%| mINP: 9.37%\n",
      "RegDB Test Trial: 6, Thermal to Visible\n",
      "original feature:   Rank-1: 5.58% | Rank-5: 12.86% | Rank-10: 17.86%| Rank-20: 23.30%| mAP: 6.66%| mINP: 3.94%\n",
      "feature after BN:   Rank-1: 16.50% | Rank-5: 29.22% | Rank-10: 38.35%| Rank-20: 50.34%| mAP: 17.29%| mINP: 10.27%\n",
      "RegDB Test Trial: 7, Thermal to Visible\n",
      "original feature:   Rank-1: 3.83% | Rank-5: 8.11% | Rank-10: 12.18%| Rank-20: 19.76%| mAP: 5.77%| mINP: 3.93%\n",
      "feature after BN:   Rank-1: 14.95% | Rank-5: 25.92% | Rank-10: 34.13%| Rank-20: 43.40%| mAP: 16.57%| mINP: 10.58%\n",
      "RegDB Test Trial: 8, Thermal to Visible\n",
      "original feature:   Rank-1: 4.03% | Rank-5: 8.79% | Rank-10: 13.45%| Rank-20: 20.87%| mAP: 6.05%| mINP: 3.87%\n",
      "feature after BN:   Rank-1: 12.38% | Rank-5: 22.96% | Rank-10: 32.28%| Rank-20: 43.40%| mAP: 15.74%| mINP: 10.68%\n",
      "RegDB Test Trial: 9, Thermal to Visible\n",
      "original feature:   Rank-1: 6.12% | Rank-5: 11.65% | Rank-10: 16.65%| Rank-20: 23.83%| mAP: 6.64%| mINP: 3.49%\n",
      "feature after BN:   Rank-1: 17.23% | Rank-5: 30.34% | Rank-10: 38.40%| Rank-20: 49.90%| mAP: 17.50%| mINP: 11.09%\n",
      "RegDB Test Trial: 10, Thermal to Visible\n",
      "original feature:   Rank-1: 5.97% | Rank-5: 12.67% | Rank-10: 16.94%| Rank-20: 23.88%| mAP: 7.37%| mINP: 4.24%\n",
      "feature after BN:   Rank-1: 18.40% | Rank-5: 29.76% | Rank-10: 37.14%| Rank-20: 48.98%| mAP: 18.06%| mINP: 11.66%\n",
      "All Average:\n",
      "original feature:   Rank-1: 4.98% | Rank-5: 11.31% | Rank-10: 15.96%| Rank-20: 22.42%| mAP: 6.62%| mINP: 3.96%\n",
      "feature after BN:   Rank-1: 16.55% | Rank-5: 28.63% | Rank-10: 37.23%| Rank-20: 48.50%| mAP: 17.40%| mINP: 10.74%\n"
     ]
    }
   ],
   "source": [
    "%run test.py --protocol L_S_to_R --resume L_S_to_R_caj_p8_n4_lr_0.1_seed_0_best.pth"
   ]
  }
 ],
 "metadata": {
  "kernelspec": {
   "display_name": "Python 3 (ipykernel)",
   "language": "python",
   "name": "python3"
  },
  "language_info": {
   "codemirror_mode": {
    "name": "ipython",
    "version": 3
   },
   "file_extension": ".py",
   "mimetype": "text/x-python",
   "name": "python",
   "nbconvert_exporter": "python",
   "pygments_lexer": "ipython3",
   "version": "3.8.10"
  }
 },
 "nbformat": 4,
 "nbformat_minor": 5
}

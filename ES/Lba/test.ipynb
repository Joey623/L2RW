{
 "cells": [
  {
   "cell_type": "markdown",
   "id": "d8a1c66c-d21a-4feb-9f4f-373026a8651d",
   "metadata": {},
   "source": [
    "## R+S->L"
   ]
  },
  {
   "cell_type": "code",
   "execution_count": 1,
   "id": "f66076be-e351-4ef7-bfe4-50cc1ed7ad24",
   "metadata": {
    "tags": []
   },
   "outputs": [
    {
     "name": "stdout",
     "output_type": "stream",
     "text": [
      "Test Protocol:  R_S_to_L\n",
      "==> Building model......\n"
     ]
    },
    {
     "name": "stderr",
     "output_type": "stream",
     "text": [
      "/root/miniconda3/lib/python3.8/site-packages/torch/nn/_reduction.py:44: UserWarning: size_average and reduce args will be deprecated, please use reduction='none' instead.\n",
      "  warnings.warn(warning.format(ret))\n"
     ]
    },
    {
     "name": "stdout",
     "output_type": "stream",
     "text": [
      "==> Testing......\n",
      "==> Loading weights from checkpoint......\n",
      "==> best epoch 2\n",
      "LLCM Test Trial: 0\n",
      "original feature:   Rank-1: 0.36% | Rank-5: 2.20% | Rank-10: 4.31%| Rank-20: 8.64%| mAP: 1.88%| mINP: 1.50%\n",
      "feature after BN:   Rank-1: 9.53% | Rank-5: 20.33% | Rank-10: 27.38%| Rank-20: 37.23%| mAP: 13.02%| mINP: 10.60%\n",
      "LLCM Test Trial: 1\n",
      "original feature:   Rank-1: 0.28% | Rank-5: 1.84% | Rank-10: 5.21%| Rank-20: 8.21%| mAP: 1.61%| mINP: 1.19%\n",
      "feature after BN:   Rank-1: 8.40% | Rank-5: 19.70% | Rank-10: 27.23%| Rank-20: 37.37%| mAP: 12.38%| mINP: 10.19%\n",
      "LLCM Test Trial: 2\n",
      "original feature:   Rank-1: 1.16% | Rank-5: 2.26% | Rank-10: 3.89%| Rank-20: 8.01%| mAP: 2.36%| mINP: 1.94%\n",
      "feature after BN:   Rank-1: 7.30% | Rank-5: 18.63% | Rank-10: 26.25%| Rank-20: 35.85%| mAP: 11.76%| mINP: 9.74%\n",
      "LLCM Test Trial: 3\n",
      "original feature:   Rank-1: 1.05% | Rank-5: 3.07% | Rank-10: 5.00%| Rank-20: 7.65%| mAP: 2.25%| mINP: 1.69%\n",
      "feature after BN:   Rank-1: 7.55% | Rank-5: 18.48% | Rank-10: 25.59%| Rank-20: 35.51%| mAP: 11.34%| mINP: 9.10%\n",
      "LLCM Test Trial: 4\n",
      "original feature:   Rank-1: 0.82% | Rank-5: 2.15% | Rank-10: 3.04%| Rank-20: 7.68%| mAP: 2.05%| mINP: 1.67%\n",
      "feature after BN:   Rank-1: 8.58% | Rank-5: 19.49% | Rank-10: 26.30%| Rank-20: 34.86%| mAP: 12.25%| mINP: 9.94%\n",
      "LLCM Test Trial: 5\n",
      "original feature:   Rank-1: 0.89% | Rank-5: 4.20% | Rank-10: 6.17%| Rank-20: 11.71%| mAP: 2.37%| mINP: 1.65%\n",
      "feature after BN:   Rank-1: 8.23% | Rank-5: 19.94% | Rank-10: 27.14%| Rank-20: 37.16%| mAP: 12.14%| mINP: 9.81%\n",
      "LLCM Test Trial: 6\n",
      "original feature:   Rank-1: 0.45% | Rank-5: 3.06% | Rank-10: 5.08%| Rank-20: 10.01%| mAP: 2.24%| mINP: 1.72%\n",
      "feature after BN:   Rank-1: 9.11% | Rank-5: 19.77% | Rank-10: 27.04%| Rank-20: 36.85%| mAP: 12.69%| mINP: 10.20%\n",
      "LLCM Test Trial: 7\n",
      "original feature:   Rank-1: 1.24% | Rank-5: 2.90% | Rank-10: 5.33%| Rank-20: 8.82%| mAP: 2.06%| mINP: 1.28%\n",
      "feature after BN:   Rank-1: 8.36% | Rank-5: 19.62% | Rank-10: 27.24%| Rank-20: 37.30%| mAP: 12.04%| mINP: 9.64%\n",
      "LLCM Test Trial: 8\n",
      "original feature:   Rank-1: 0.35% | Rank-5: 2.83% | Rank-10: 6.21%| Rank-20: 10.95%| mAP: 2.04%| mINP: 1.57%\n",
      "feature after BN:   Rank-1: 8.44% | Rank-5: 20.29% | Rank-10: 27.80%| Rank-20: 37.26%| mAP: 12.44%| mINP: 10.09%\n",
      "LLCM Test Trial: 9\n",
      "original feature:   Rank-1: 0.33% | Rank-5: 1.84% | Rank-10: 5.15%| Rank-20: 8.97%| mAP: 1.72%| mINP: 1.23%\n",
      "feature after BN:   Rank-1: 8.25% | Rank-5: 18.76% | Rank-10: 26.03%| Rank-20: 35.63%| mAP: 11.95%| mINP: 9.68%\n",
      "All Average:\n",
      "original feature:   Rank-1: 0.69% | Rank-5: 2.64% | Rank-10: 4.94%| Rank-20: 9.06%| mAP: 2.06%| mINP: 1.54%\n",
      "feature after BN:   Rank-1: 8.38% | Rank-5: 19.50% | Rank-10: 26.80%| Rank-20: 36.50%| mAP: 12.20%| mINP: 9.90%\n"
     ]
    }
   ],
   "source": [
    "%run test.py --protocol R_S_to_L --resume R_S_to_L_lba_p8_n4_lr_0.1_seed_0_best.pth"
   ]
  },
  {
   "cell_type": "markdown",
   "id": "753287f9-07de-4bfe-bec5-bfdba13d41f3",
   "metadata": {},
   "source": [
    "## R+L->S"
   ]
  },
  {
   "cell_type": "code",
   "execution_count": 2,
   "id": "7a704c49-6212-4edf-9e74-b752f37e288d",
   "metadata": {
    "tags": []
   },
   "outputs": [
    {
     "name": "stdout",
     "output_type": "stream",
     "text": [
      "Test Protocol:  R_L_to_S\n",
      "==> Building model......\n",
      "==> Testing......\n",
      "==> Loading weights from checkpoint......\n",
      "==> best epoch 27\n",
      "SYSU Test Trial: 0\n",
      "original feature:   Rank-1: 1.74% | Rank-5: 8.41% | Rank-10: 15.80%| Rank-20: 28.48%| mAP: 3.87%| mINP: 2.14%\n",
      "feature after BN:   Rank-1: 9.49% | Rank-5: 24.09% | Rank-10: 35.76%| Rank-20: 52.77%| mAP: 10.09%| mINP: 4.28%\n",
      "SYSU Test Trial: 1\n",
      "original feature:   Rank-1: 2.39% | Rank-5: 9.91% | Rank-10: 14.99%| Rank-20: 25.90%| mAP: 4.11%| mINP: 2.10%\n",
      "feature after BN:   Rank-1: 8.68% | Rank-5: 23.22% | Rank-10: 35.42%| Rank-20: 49.93%| mAP: 10.42%| mINP: 5.01%\n",
      "SYSU Test Trial: 2\n",
      "original feature:   Rank-1: 2.02% | Rank-5: 8.47% | Rank-10: 16.41%| Rank-20: 31.32%| mAP: 4.27%| mINP: 2.20%\n",
      "feature after BN:   Rank-1: 7.49% | Rank-5: 21.96% | Rank-10: 32.97%| Rank-20: 49.88%| mAP: 9.27%| mINP: 4.17%\n",
      "SYSU Test Trial: 3\n",
      "original feature:   Rank-1: 1.45% | Rank-5: 9.41% | Rank-10: 17.35%| Rank-20: 29.84%| mAP: 3.89%| mINP: 2.22%\n",
      "feature after BN:   Rank-1: 8.34% | Rank-5: 23.40% | Rank-10: 35.18%| Rank-20: 51.54%| mAP: 9.69%| mINP: 4.52%\n",
      "SYSU Test Trial: 4\n",
      "original feature:   Rank-1: 1.21% | Rank-5: 9.10% | Rank-10: 16.83%| Rank-20: 27.11%| mAP: 3.64%| mINP: 2.24%\n",
      "feature after BN:   Rank-1: 7.84% | Rank-5: 21.67% | Rank-10: 32.32%| Rank-20: 48.46%| mAP: 9.00%| mINP: 4.08%\n",
      "SYSU Test Trial: 5\n",
      "original feature:   Rank-1: 2.21% | Rank-5: 8.65% | Rank-10: 14.75%| Rank-20: 30.66%| mAP: 4.11%| mINP: 1.99%\n",
      "feature after BN:   Rank-1: 7.73% | Rank-5: 24.32% | Rank-10: 36.37%| Rank-20: 50.78%| mAP: 9.66%| mINP: 4.27%\n",
      "SYSU Test Trial: 6\n",
      "original feature:   Rank-1: 3.00% | Rank-5: 8.68% | Rank-10: 15.46%| Rank-20: 28.06%| mAP: 4.14%| mINP: 1.88%\n",
      "feature after BN:   Rank-1: 8.60% | Rank-5: 24.64% | Rank-10: 35.55%| Rank-20: 50.93%| mAP: 9.86%| mINP: 4.33%\n",
      "SYSU Test Trial: 7\n",
      "original feature:   Rank-1: 1.50% | Rank-5: 7.65% | Rank-10: 15.70%| Rank-20: 28.53%| mAP: 3.75%| mINP: 2.04%\n",
      "feature after BN:   Rank-1: 7.26% | Rank-5: 23.95% | Rank-10: 34.10%| Rank-20: 50.22%| mAP: 8.74%| mINP: 3.64%\n",
      "SYSU Test Trial: 8\n",
      "original feature:   Rank-1: 1.05% | Rank-5: 7.07% | Rank-10: 13.80%| Rank-20: 28.00%| mAP: 3.39%| mINP: 1.89%\n",
      "feature after BN:   Rank-1: 7.13% | Rank-5: 21.72% | Rank-10: 33.68%| Rank-20: 50.22%| mAP: 9.12%| mINP: 4.44%\n",
      "SYSU Test Trial: 9\n",
      "original feature:   Rank-1: 1.55% | Rank-5: 6.89% | Rank-10: 14.30%| Rank-20: 27.71%| mAP: 3.48%| mINP: 1.89%\n",
      "feature after BN:   Rank-1: 8.39% | Rank-5: 24.59% | Rank-10: 34.95%| Rank-20: 50.20%| mAP: 9.60%| mINP: 4.11%\n",
      "All Average:\n",
      "original feature:   Rank-1: 1.81% | Rank-5: 8.42% | Rank-10: 15.54%| Rank-20: 28.56%| mAP: 3.86%| mINP: 2.06%\n",
      "feature after BN:   Rank-1: 8.09% | Rank-5: 23.36% | Rank-10: 34.63%| Rank-20: 50.49%| mAP: 9.55%| mINP: 4.29%\n"
     ]
    }
   ],
   "source": [
    "%run test.py --protocol R_L_to_S --resume R_L_to_S_lba_p8_n4_lr_0.1_seed_0_best.pth"
   ]
  },
  {
   "cell_type": "markdown",
   "id": "71f1dd39-3287-4ba9-8d19-293a85379fa8",
   "metadata": {},
   "source": [
    "## L+S->R"
   ]
  },
  {
   "cell_type": "code",
   "execution_count": 3,
   "id": "7673551f-6d34-4306-bb0d-c481cf3b811e",
   "metadata": {
    "tags": []
   },
   "outputs": [
    {
     "name": "stdout",
     "output_type": "stream",
     "text": [
      "Test Protocol:  L_S_to_R\n",
      "==> Building model......\n",
      "==> Testing......\n",
      "==> Loading weights from checkpoint......\n",
      "==> best epoch 3\n",
      "RegDB Test Trial: 1, Thermal to Visible\n",
      "original feature:   Rank-1: 0.63% | Rank-5: 3.01% | Rank-10: 4.56%| Rank-20: 7.72%| mAP: 1.27%| mINP: 0.92%\n",
      "feature after BN:   Rank-1: 14.27% | Rank-5: 24.61% | Rank-10: 30.83%| Rank-20: 39.27%| mAP: 12.81%| mINP: 6.33%\n",
      "RegDB Test Trial: 2, Thermal to Visible\n",
      "original feature:   Rank-1: 0.73% | Rank-5: 1.65% | Rank-10: 2.91%| Rank-20: 5.49%| mAP: 1.44%| mINP: 1.07%\n",
      "feature after BN:   Rank-1: 12.33% | Rank-5: 23.06% | Rank-10: 29.71%| Rank-20: 38.54%| mAP: 11.74%| mINP: 6.18%\n",
      "RegDB Test Trial: 3, Thermal to Visible\n",
      "original feature:   Rank-1: 0.49% | Rank-5: 3.01% | Rank-10: 3.93%| Rank-20: 7.18%| mAP: 1.26%| mINP: 0.91%\n",
      "feature after BN:   Rank-1: 11.75% | Rank-5: 21.65% | Rank-10: 28.25%| Rank-20: 35.97%| mAP: 11.49%| mINP: 6.05%\n",
      "RegDB Test Trial: 4, Thermal to Visible\n",
      "original feature:   Rank-1: 0.68% | Rank-5: 1.70% | Rank-10: 3.83%| Rank-20: 6.07%| mAP: 1.49%| mINP: 1.01%\n",
      "feature after BN:   Rank-1: 10.53% | Rank-5: 20.83% | Rank-10: 26.84%| Rank-20: 34.76%| mAP: 11.36%| mINP: 5.92%\n",
      "RegDB Test Trial: 5, Thermal to Visible\n",
      "original feature:   Rank-1: 0.53% | Rank-5: 1.94% | Rank-10: 2.67%| Rank-20: 5.87%| mAP: 1.39%| mINP: 1.03%\n",
      "feature after BN:   Rank-1: 10.63% | Rank-5: 21.70% | Rank-10: 26.99%| Rank-20: 35.39%| mAP: 11.29%| mINP: 5.74%\n",
      "RegDB Test Trial: 6, Thermal to Visible\n",
      "original feature:   Rank-1: 0.58% | Rank-5: 1.70% | Rank-10: 2.72%| Rank-20: 4.13%| mAP: 1.41%| mINP: 0.91%\n",
      "feature after BN:   Rank-1: 13.54% | Rank-5: 21.84% | Rank-10: 29.37%| Rank-20: 37.67%| mAP: 12.09%| mINP: 6.07%\n",
      "RegDB Test Trial: 7, Thermal to Visible\n",
      "original feature:   Rank-1: 0.83% | Rank-5: 3.45% | Rank-10: 4.13%| Rank-20: 6.46%| mAP: 1.32%| mINP: 0.94%\n",
      "feature after BN:   Rank-1: 11.80% | Rank-5: 22.52% | Rank-10: 30.44%| Rank-20: 38.79%| mAP: 11.75%| mINP: 6.45%\n",
      "RegDB Test Trial: 8, Thermal to Visible\n",
      "original feature:   Rank-1: 0.73% | Rank-5: 2.52% | Rank-10: 3.30%| Rank-20: 6.36%| mAP: 1.37%| mINP: 0.97%\n",
      "feature after BN:   Rank-1: 12.14% | Rank-5: 21.80% | Rank-10: 27.09%| Rank-20: 35.92%| mAP: 11.90%| mINP: 6.20%\n",
      "RegDB Test Trial: 9, Thermal to Visible\n",
      "original feature:   Rank-1: 1.02% | Rank-5: 3.01% | Rank-10: 3.69%| Rank-20: 6.89%| mAP: 1.34%| mINP: 0.94%\n",
      "feature after BN:   Rank-1: 10.73% | Rank-5: 22.14% | Rank-10: 28.93%| Rank-20: 38.30%| mAP: 11.40%| mINP: 5.55%\n",
      "RegDB Test Trial: 10, Thermal to Visible\n",
      "original feature:   Rank-1: 0.49% | Rank-5: 3.79% | Rank-10: 4.17%| Rank-20: 6.80%| mAP: 1.34%| mINP: 0.98%\n",
      "feature after BN:   Rank-1: 12.38% | Rank-5: 21.46% | Rank-10: 28.01%| Rank-20: 36.99%| mAP: 11.04%| mINP: 5.64%\n",
      "All Average:\n",
      "original feature:   Rank-1: 0.67% | Rank-5: 2.58% | Rank-10: 3.59%| Rank-20: 6.30%| mAP: 1.36%| mINP: 0.97%\n",
      "feature after BN:   Rank-1: 12.01% | Rank-5: 22.16% | Rank-10: 28.65%| Rank-20: 37.16%| mAP: 11.69%| mINP: 6.01%\n"
     ]
    }
   ],
   "source": [
    "%run test.py --protocol L_S_to_R --resume L_S_to_R_lba_p8_n4_lr_0.1_seed_0_best.pth"
   ]
  }
 ],
 "metadata": {
  "kernelspec": {
   "display_name": "Python 3 (ipykernel)",
   "language": "python",
   "name": "python3"
  },
  "language_info": {
   "codemirror_mode": {
    "name": "ipython",
    "version": 3
   },
   "file_extension": ".py",
   "mimetype": "text/x-python",
   "name": "python",
   "nbconvert_exporter": "python",
   "pygments_lexer": "ipython3",
   "version": "3.8.10"
  }
 },
 "nbformat": 4,
 "nbformat_minor": 5
}

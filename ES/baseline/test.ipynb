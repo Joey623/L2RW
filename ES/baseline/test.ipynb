{
 "cells": [
  {
   "cell_type": "markdown",
   "id": "d8a1c66c-d21a-4feb-9f4f-373026a8651d",
   "metadata": {},
   "source": [
    "## R+S->L"
   ]
  },
  {
   "cell_type": "code",
   "execution_count": 5,
   "id": "f66076be-e351-4ef7-bfe4-50cc1ed7ad24",
   "metadata": {
    "tags": []
   },
   "outputs": [
    {
     "name": "stdout",
     "output_type": "stream",
     "text": [
      "Test Protocol:  R_S_to_L\n",
      "==> Building model......\n",
      "==> Testing......\n",
      "==> Loading weights from checkpoint......\n",
      "==> best epoch 17\n",
      "LLCM Test Trial: 0\n",
      "original feature:   Rank-1: 7.88% | Rank-5: 16.96% | Rank-10: 23.28%| Rank-20: 31.04%| mAP: 10.45%| mINP: 8.02%\n",
      "feature after BN:   Rank-1: 9.78% | Rank-5: 20.30% | Rank-10: 26.96%| Rank-20: 36.39%| mAP: 12.93%| mINP: 10.21%\n",
      "LLCM Test Trial: 1\n",
      "original feature:   Rank-1: 6.56% | Rank-5: 15.32% | Rank-10: 21.11%| Rank-20: 29.67%| mAP: 9.27%| mINP: 7.21%\n",
      "feature after BN:   Rank-1: 7.97% | Rank-5: 18.81% | Rank-10: 26.44%| Rank-20: 37.06%| mAP: 11.72%| mINP: 9.31%\n",
      "LLCM Test Trial: 2\n",
      "original feature:   Rank-1: 6.15% | Rank-5: 14.57% | Rank-10: 20.71%| Rank-20: 29.86%| mAP: 9.13%| mINP: 7.12%\n",
      "feature after BN:   Rank-1: 7.91% | Rank-5: 18.64% | Rank-10: 25.90%| Rank-20: 36.27%| mAP: 11.53%| mINP: 9.22%\n",
      "LLCM Test Trial: 3\n",
      "original feature:   Rank-1: 7.70% | Rank-5: 16.56% | Rank-10: 22.34%| Rank-20: 30.34%| mAP: 10.01%| mINP: 7.61%\n",
      "feature after BN:   Rank-1: 8.62% | Rank-5: 19.68% | Rank-10: 27.09%| Rank-20: 37.34%| mAP: 12.16%| mINP: 9.73%\n",
      "LLCM Test Trial: 4\n",
      "original feature:   Rank-1: 7.58% | Rank-5: 16.48% | Rank-10: 23.43%| Rank-20: 32.40%| mAP: 10.26%| mINP: 7.98%\n",
      "feature after BN:   Rank-1: 8.99% | Rank-5: 19.41% | Rank-10: 26.70%| Rank-20: 37.41%| mAP: 12.50%| mINP: 10.07%\n",
      "LLCM Test Trial: 5\n",
      "original feature:   Rank-1: 7.33% | Rank-5: 15.46% | Rank-10: 21.57%| Rank-20: 29.40%| mAP: 9.64%| mINP: 7.44%\n",
      "feature after BN:   Rank-1: 8.64% | Rank-5: 19.10% | Rank-10: 26.96%| Rank-20: 36.30%| mAP: 12.10%| mINP: 9.66%\n",
      "LLCM Test Trial: 6\n",
      "original feature:   Rank-1: 8.51% | Rank-5: 17.49% | Rank-10: 22.84%| Rank-20: 31.08%| mAP: 10.61%| mINP: 8.12%\n",
      "feature after BN:   Rank-1: 9.75% | Rank-5: 20.23% | Rank-10: 27.81%| Rank-20: 37.48%| mAP: 12.81%| mINP: 10.00%\n",
      "LLCM Test Trial: 7\n",
      "original feature:   Rank-1: 7.87% | Rank-5: 17.43% | Rank-10: 23.81%| Rank-20: 31.62%| mAP: 10.71%| mINP: 8.59%\n",
      "feature after BN:   Rank-1: 9.25% | Rank-5: 19.96% | Rank-10: 27.42%| Rank-20: 37.05%| mAP: 12.84%| mINP: 10.59%\n",
      "LLCM Test Trial: 8\n",
      "original feature:   Rank-1: 7.44% | Rank-5: 17.40% | Rank-10: 23.29%| Rank-20: 31.97%| mAP: 10.26%| mINP: 7.97%\n",
      "feature after BN:   Rank-1: 8.79% | Rank-5: 19.98% | Rank-10: 27.78%| Rank-20: 37.87%| mAP: 12.49%| mINP: 9.99%\n",
      "LLCM Test Trial: 9\n",
      "original feature:   Rank-1: 6.71% | Rank-5: 15.34% | Rank-10: 21.84%| Rank-20: 30.38%| mAP: 9.30%| mINP: 7.16%\n",
      "feature after BN:   Rank-1: 7.65% | Rank-5: 17.81% | Rank-10: 25.27%| Rank-20: 34.94%| mAP: 11.20%| mINP: 9.04%\n",
      "All Average:\n",
      "original feature:   Rank-1: 7.37% | Rank-5: 16.30% | Rank-10: 22.42%| Rank-20: 30.78%| mAP: 9.96%| mINP: 7.72%\n",
      "feature after BN:   Rank-1: 8.74% | Rank-5: 19.39% | Rank-10: 26.83%| Rank-20: 36.81%| mAP: 12.23%| mINP: 9.78%\n"
     ]
    }
   ],
   "source": [
    "%run test.py --protocol R_S_to_L --resume R_S_to_L_baseline_p8_n4_lr_0.1_seed_0_best.pth"
   ]
  },
  {
   "cell_type": "markdown",
   "id": "753287f9-07de-4bfe-bec5-bfdba13d41f3",
   "metadata": {},
   "source": [
    "## R+L->S"
   ]
  },
  {
   "cell_type": "code",
   "execution_count": 6,
   "id": "7a704c49-6212-4edf-9e74-b752f37e288d",
   "metadata": {
    "tags": []
   },
   "outputs": [
    {
     "name": "stdout",
     "output_type": "stream",
     "text": [
      "Test Protocol:  R_L_to_S\n",
      "==> Building model......\n",
      "==> Testing......\n",
      "==> Loading weights from checkpoint......\n",
      "==> best epoch 27\n",
      "SYSU Test Trial: 0\n",
      "original feature:   Rank-1: 7.23% | Rank-5: 20.48% | Rank-10: 31.97%| Rank-20: 49.62%| mAP: 8.03%| mINP: 3.31%\n",
      "feature after BN:   Rank-1: 9.41% | Rank-5: 26.19% | Rank-10: 38.50%| Rank-20: 55.27%| mAP: 10.34%| mINP: 4.22%\n",
      "SYSU Test Trial: 1\n",
      "original feature:   Rank-1: 6.68% | Rank-5: 19.06% | Rank-10: 28.64%| Rank-20: 42.86%| mAP: 7.75%| mINP: 3.02%\n",
      "feature after BN:   Rank-1: 9.65% | Rank-5: 23.74% | Rank-10: 35.73%| Rank-20: 52.43%| mAP: 10.30%| mINP: 4.41%\n",
      "SYSU Test Trial: 2\n",
      "original feature:   Rank-1: 7.26% | Rank-5: 19.75% | Rank-10: 29.08%| Rank-20: 44.15%| mAP: 7.84%| mINP: 3.24%\n",
      "feature after BN:   Rank-1: 8.89% | Rank-5: 23.35% | Rank-10: 35.21%| Rank-20: 51.28%| mAP: 9.48%| mINP: 3.99%\n",
      "SYSU Test Trial: 3\n",
      "original feature:   Rank-1: 5.68% | Rank-5: 19.14% | Rank-10: 29.71%| Rank-20: 43.54%| mAP: 7.13%| mINP: 2.90%\n",
      "feature after BN:   Rank-1: 7.70% | Rank-5: 22.96% | Rank-10: 35.66%| Rank-20: 52.91%| mAP: 9.32%| mINP: 4.43%\n",
      "SYSU Test Trial: 4\n",
      "original feature:   Rank-1: 7.26% | Rank-5: 19.27% | Rank-10: 29.13%| Rank-20: 43.10%| mAP: 7.90%| mINP: 3.27%\n",
      "feature after BN:   Rank-1: 8.57% | Rank-5: 23.61% | Rank-10: 35.00%| Rank-20: 51.14%| mAP: 9.54%| mINP: 4.50%\n",
      "SYSU Test Trial: 5\n",
      "original feature:   Rank-1: 7.94% | Rank-5: 20.59% | Rank-10: 29.98%| Rank-20: 44.23%| mAP: 7.65%| mINP: 2.51%\n",
      "feature after BN:   Rank-1: 9.10% | Rank-5: 24.48% | Rank-10: 36.18%| Rank-20: 52.56%| mAP: 9.56%| mINP: 3.74%\n",
      "SYSU Test Trial: 6\n",
      "original feature:   Rank-1: 7.20% | Rank-5: 20.35% | Rank-10: 31.21%| Rank-20: 45.49%| mAP: 7.58%| mINP: 2.52%\n",
      "feature after BN:   Rank-1: 7.99% | Rank-5: 24.27% | Rank-10: 37.89%| Rank-20: 53.41%| mAP: 9.35%| mINP: 3.60%\n",
      "SYSU Test Trial: 7\n",
      "original feature:   Rank-1: 7.65% | Rank-5: 20.85% | Rank-10: 31.19%| Rank-20: 44.78%| mAP: 7.83%| mINP: 2.91%\n",
      "feature after BN:   Rank-1: 8.62% | Rank-5: 24.66% | Rank-10: 36.52%| Rank-20: 53.06%| mAP: 9.28%| mINP: 3.62%\n",
      "SYSU Test Trial: 8\n",
      "original feature:   Rank-1: 7.44% | Rank-5: 18.96% | Rank-10: 29.11%| Rank-20: 42.44%| mAP: 7.75%| mINP: 3.00%\n",
      "feature after BN:   Rank-1: 7.68% | Rank-5: 22.19% | Rank-10: 33.87%| Rank-20: 51.93%| mAP: 9.06%| mINP: 3.88%\n",
      "SYSU Test Trial: 9\n",
      "original feature:   Rank-1: 7.39% | Rank-5: 21.64% | Rank-10: 33.00%| Rank-20: 47.28%| mAP: 7.82%| mINP: 2.86%\n",
      "feature after BN:   Rank-1: 8.65% | Rank-5: 24.27% | Rank-10: 38.05%| Rank-20: 53.80%| mAP: 9.50%| mINP: 3.67%\n",
      "All Average:\n",
      "original feature:   Rank-1: 7.17% | Rank-5: 20.01% | Rank-10: 30.30%| Rank-20: 44.75%| mAP: 7.73%| mINP: 2.95%\n",
      "feature after BN:   Rank-1: 8.63% | Rank-5: 23.97% | Rank-10: 36.26%| Rank-20: 52.78%| mAP: 9.57%| mINP: 4.01%\n"
     ]
    }
   ],
   "source": [
    "%run test.py --protocol R_L_to_S --resume R_L_to_S_baseline_p8_n4_lr_0.1_seed_0_best.pth"
   ]
  },
  {
   "cell_type": "markdown",
   "id": "71f1dd39-3287-4ba9-8d19-293a85379fa8",
   "metadata": {},
   "source": [
    "## L+S->R"
   ]
  },
  {
   "cell_type": "code",
   "execution_count": 7,
   "id": "7673551f-6d34-4306-bb0d-c481cf3b811e",
   "metadata": {
    "tags": []
   },
   "outputs": [
    {
     "name": "stdout",
     "output_type": "stream",
     "text": [
      "Test Protocol:  L_S_to_R\n",
      "==> Building model......\n",
      "==> Testing......\n",
      "==> Loading weights from checkpoint......\n",
      "==> best epoch 18\n",
      "RegDB Test Trial: 1, Thermal to Visible\n",
      "original feature:   Rank-1: 13.64% | Rank-5: 21.99% | Rank-10: 27.38%| Rank-20: 33.88%| mAP: 12.61%| mINP: 7.75%\n",
      "feature after BN:   Rank-1: 21.55% | Rank-5: 30.15% | Rank-10: 36.55%| Rank-20: 46.36%| mAP: 21.02%| mINP: 13.33%\n",
      "RegDB Test Trial: 2, Thermal to Visible\n",
      "original feature:   Rank-1: 9.76% | Rank-5: 17.18% | Rank-10: 22.33%| Rank-20: 29.32%| mAP: 11.15%| mINP: 7.18%\n",
      "feature after BN:   Rank-1: 19.42% | Rank-5: 30.97% | Rank-10: 38.98%| Rank-20: 49.22%| mAP: 19.65%| mINP: 12.28%\n",
      "RegDB Test Trial: 3, Thermal to Visible\n",
      "original feature:   Rank-1: 6.31% | Rank-5: 12.77% | Rank-10: 18.50%| Rank-20: 28.01%| mAP: 8.54%| mINP: 5.66%\n",
      "feature after BN:   Rank-1: 15.15% | Rank-5: 25.19% | Rank-10: 32.04%| Rank-20: 42.91%| mAP: 16.61%| mINP: 10.68%\n",
      "RegDB Test Trial: 4, Thermal to Visible\n",
      "original feature:   Rank-1: 8.98% | Rank-5: 15.58% | Rank-10: 21.26%| Rank-20: 28.35%| mAP: 9.87%| mINP: 6.58%\n",
      "feature after BN:   Rank-1: 15.63% | Rank-5: 24.47% | Rank-10: 32.43%| Rank-20: 41.12%| mAP: 16.27%| mINP: 9.93%\n",
      "RegDB Test Trial: 5, Thermal to Visible\n",
      "original feature:   Rank-1: 7.96% | Rank-5: 13.06% | Rank-10: 18.59%| Rank-20: 26.07%| mAP: 8.60%| mINP: 5.40%\n",
      "feature after BN:   Rank-1: 15.53% | Rank-5: 25.29% | Rank-10: 32.86%| Rank-20: 43.69%| mAP: 16.33%| mINP: 9.65%\n",
      "RegDB Test Trial: 6, Thermal to Visible\n",
      "original feature:   Rank-1: 8.25% | Rank-5: 13.79% | Rank-10: 17.57%| Rank-20: 24.42%| mAP: 9.01%| mINP: 5.42%\n",
      "feature after BN:   Rank-1: 15.10% | Rank-5: 26.02% | Rank-10: 34.47%| Rank-20: 44.17%| mAP: 16.16%| mINP: 9.80%\n",
      "RegDB Test Trial: 7, Thermal to Visible\n",
      "original feature:   Rank-1: 8.45% | Rank-5: 13.98% | Rank-10: 20.49%| Rank-20: 27.43%| mAP: 9.37%| mINP: 6.22%\n",
      "feature after BN:   Rank-1: 15.39% | Rank-5: 24.03% | Rank-10: 31.17%| Rank-20: 41.36%| mAP: 16.37%| mINP: 10.62%\n",
      "RegDB Test Trial: 8, Thermal to Visible\n",
      "original feature:   Rank-1: 10.92% | Rank-5: 17.48% | Rank-10: 22.33%| Rank-20: 28.93%| mAP: 11.06%| mINP: 6.75%\n",
      "feature after BN:   Rank-1: 16.80% | Rank-5: 26.17% | Rank-10: 34.61%| Rank-20: 44.85%| mAP: 17.37%| mINP: 11.58%\n",
      "RegDB Test Trial: 9, Thermal to Visible\n",
      "original feature:   Rank-1: 12.23% | Rank-5: 21.02% | Rank-10: 27.09%| Rank-20: 33.40%| mAP: 12.30%| mINP: 6.89%\n",
      "feature after BN:   Rank-1: 18.59% | Rank-5: 28.25% | Rank-10: 35.49%| Rank-20: 46.89%| mAP: 18.87%| mINP: 11.65%\n",
      "RegDB Test Trial: 10, Thermal to Visible\n",
      "original feature:   Rank-1: 11.17% | Rank-5: 17.82% | Rank-10: 22.28%| Rank-20: 27.48%| mAP: 10.84%| mINP: 6.68%\n",
      "feature after BN:   Rank-1: 17.62% | Rank-5: 27.14% | Rank-10: 34.61%| Rank-20: 46.26%| mAP: 18.25%| mINP: 12.01%\n",
      "All Average:\n",
      "original feature:   Rank-1: 9.77% | Rank-5: 16.47% | Rank-10: 21.78%| Rank-20: 28.73%| mAP: 10.34%| mINP: 6.45%\n",
      "feature after BN:   Rank-1: 17.08% | Rank-5: 26.77% | Rank-10: 34.32%| Rank-20: 44.68%| mAP: 17.69%| mINP: 11.15%\n"
     ]
    }
   ],
   "source": [
    "%run test.py --protocol L_S_to_R --resume L_S_to_R_baseline_p8_n4_lr_0.1_seed_0_best.pth"
   ]
  }
 ],
 "metadata": {
  "kernelspec": {
   "display_name": "Python 3 (ipykernel)",
   "language": "python",
   "name": "python3"
  },
  "language_info": {
   "codemirror_mode": {
    "name": "ipython",
    "version": 3
   },
   "file_extension": ".py",
   "mimetype": "text/x-python",
   "name": "python",
   "nbconvert_exporter": "python",
   "pygments_lexer": "ipython3",
   "version": "3.8.10"
  }
 },
 "nbformat": 4,
 "nbformat_minor": 5
}

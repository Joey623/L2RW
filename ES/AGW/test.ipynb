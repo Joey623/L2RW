{
 "cells": [
  {
   "cell_type": "markdown",
   "id": "d8a1c66c-d21a-4feb-9f4f-373026a8651d",
   "metadata": {},
   "source": [
    "## R+S->L"
   ]
  },
  {
   "cell_type": "code",
   "execution_count": 1,
   "id": "f66076be-e351-4ef7-bfe4-50cc1ed7ad24",
   "metadata": {
    "tags": []
   },
   "outputs": [
    {
     "name": "stdout",
     "output_type": "stream",
     "text": [
      "Test Protocol:  R_S_to_L\n",
      "==> Building model......\n",
      "==> Testing......\n",
      "==> Loading weights from checkpoint......\n",
      "==> best epoch 17\n",
      "LLCM Test Trial: 0\n",
      "original feature:   Rank-1: 6.50% | Rank-5: 15.78% | Rank-10: 22.50%| Rank-20: 31.93%| mAP: 9.48%| mINP: 7.29%\n",
      "feature after BN:   Rank-1: 9.35% | Rank-5: 20.12% | Rank-10: 27.45%| Rank-20: 36.21%| mAP: 12.57%| mINP: 9.90%\n",
      "LLCM Test Trial: 1\n",
      "original feature:   Rank-1: 6.64% | Rank-5: 14.79% | Rank-10: 20.81%| Rank-20: 29.54%| mAP: 9.20%| mINP: 6.99%\n",
      "feature after BN:   Rank-1: 9.55% | Rank-5: 19.87% | Rank-10: 26.46%| Rank-20: 36.39%| mAP: 12.35%| mINP: 9.52%\n",
      "LLCM Test Trial: 2\n",
      "original feature:   Rank-1: 5.26% | Rank-5: 13.89% | Rank-10: 20.75%| Rank-20: 30.62%| mAP: 8.65%| mINP: 6.91%\n",
      "feature after BN:   Rank-1: 8.05% | Rank-5: 19.17% | Rank-10: 26.92%| Rank-20: 37.13%| mAP: 12.05%| mINP: 9.85%\n",
      "LLCM Test Trial: 3\n",
      "original feature:   Rank-1: 5.76% | Rank-5: 14.90% | Rank-10: 22.17%| Rank-20: 31.80%| mAP: 9.24%| mINP: 7.47%\n",
      "feature after BN:   Rank-1: 8.71% | Rank-5: 19.66% | Rank-10: 26.63%| Rank-20: 35.75%| mAP: 12.24%| mINP: 9.78%\n",
      "LLCM Test Trial: 4\n",
      "original feature:   Rank-1: 6.46% | Rank-5: 15.45% | Rank-10: 22.01%| Rank-20: 30.88%| mAP: 9.62%| mINP: 7.72%\n",
      "feature after BN:   Rank-1: 9.41% | Rank-5: 19.65% | Rank-10: 26.22%| Rank-20: 35.46%| mAP: 12.48%| mINP: 10.02%\n",
      "LLCM Test Trial: 5\n",
      "original feature:   Rank-1: 5.69% | Rank-5: 14.74% | Rank-10: 21.35%| Rank-20: 31.16%| mAP: 9.03%| mINP: 7.15%\n",
      "feature after BN:   Rank-1: 9.36% | Rank-5: 19.72% | Rank-10: 26.43%| Rank-20: 35.39%| mAP: 12.44%| mINP: 9.94%\n",
      "LLCM Test Trial: 6\n",
      "original feature:   Rank-1: 6.64% | Rank-5: 15.60% | Rank-10: 22.65%| Rank-20: 32.36%| mAP: 9.70%| mINP: 7.48%\n",
      "feature after BN:   Rank-1: 9.25% | Rank-5: 19.89% | Rank-10: 26.99%| Rank-20: 36.91%| mAP: 12.48%| mINP: 9.72%\n",
      "LLCM Test Trial: 7\n",
      "original feature:   Rank-1: 5.75% | Rank-5: 15.03% | Rank-10: 21.55%| Rank-20: 30.80%| mAP: 9.02%| mINP: 7.04%\n",
      "feature after BN:   Rank-1: 8.92% | Rank-5: 19.41% | Rank-10: 26.79%| Rank-20: 36.38%| mAP: 12.40%| mINP: 9.93%\n",
      "LLCM Test Trial: 8\n",
      "original feature:   Rank-1: 6.56% | Rank-5: 15.94% | Rank-10: 22.63%| Rank-20: 31.86%| mAP: 9.61%| mINP: 7.50%\n",
      "feature after BN:   Rank-1: 9.68% | Rank-5: 20.49% | Rank-10: 27.74%| Rank-20: 37.57%| mAP: 12.77%| mINP: 9.96%\n",
      "LLCM Test Trial: 9\n",
      "original feature:   Rank-1: 5.99% | Rank-5: 15.10% | Rank-10: 22.06%| Rank-20: 31.51%| mAP: 9.42%| mINP: 7.47%\n",
      "feature after BN:   Rank-1: 8.57% | Rank-5: 19.24% | Rank-10: 26.04%| Rank-20: 36.31%| mAP: 11.92%| mINP: 9.37%\n",
      "All Average:\n",
      "original feature:   Rank-1: 6.13% | Rank-5: 15.12% | Rank-10: 21.85%| Rank-20: 31.25%| mAP: 9.30%| mINP: 7.30%\n",
      "feature after BN:   Rank-1: 9.08% | Rank-5: 19.72% | Rank-10: 26.77%| Rank-20: 36.35%| mAP: 12.37%| mINP: 9.80%\n"
     ]
    }
   ],
   "source": [
    "%run test.py --protocol R_S_to_L --resume R_S_to_L_agw_p8_n4_lr_0.1_seed_0_best.pth"
   ]
  },
  {
   "cell_type": "markdown",
   "id": "753287f9-07de-4bfe-bec5-bfdba13d41f3",
   "metadata": {},
   "source": [
    "## R+L->S"
   ]
  },
  {
   "cell_type": "code",
   "execution_count": 2,
   "id": "7a704c49-6212-4edf-9e74-b752f37e288d",
   "metadata": {
    "tags": []
   },
   "outputs": [
    {
     "name": "stdout",
     "output_type": "stream",
     "text": [
      "Test Protocol:  R_L_to_S\n",
      "==> Building model......\n",
      "==> Testing......\n",
      "==> Loading weights from checkpoint......\n",
      "==> best epoch 27\n",
      "SYSU Test Trial: 0\n",
      "original feature:   Rank-1: 8.15% | Rank-5: 23.95% | Rank-10: 36.52%| Rank-20: 54.64%| mAP: 9.66%| mINP: 4.59%\n",
      "feature after BN:   Rank-1: 11.28% | Rank-5: 27.95% | Rank-10: 39.78%| Rank-20: 56.82%| mAP: 11.36%| mINP: 4.60%\n",
      "SYSU Test Trial: 1\n",
      "original feature:   Rank-1: 8.15% | Rank-5: 24.22% | Rank-10: 37.05%| Rank-20: 52.43%| mAP: 10.31%| mINP: 5.04%\n",
      "feature after BN:   Rank-1: 10.23% | Rank-5: 26.35% | Rank-10: 37.42%| Rank-20: 52.93%| mAP: 11.24%| mINP: 5.18%\n",
      "SYSU Test Trial: 2\n",
      "original feature:   Rank-1: 6.76% | Rank-5: 22.90% | Rank-10: 34.39%| Rank-20: 52.59%| mAP: 9.28%| mINP: 4.27%\n",
      "feature after BN:   Rank-1: 9.36% | Rank-5: 25.24% | Rank-10: 37.50%| Rank-20: 53.06%| mAP: 10.00%| mINP: 4.22%\n",
      "SYSU Test Trial: 3\n",
      "original feature:   Rank-1: 7.44% | Rank-5: 22.46% | Rank-10: 35.39%| Rank-20: 52.25%| mAP: 9.75%| mINP: 5.18%\n",
      "feature after BN:   Rank-1: 7.65% | Rank-5: 24.19% | Rank-10: 37.29%| Rank-20: 55.88%| mAP: 9.69%| mINP: 4.71%\n",
      "SYSU Test Trial: 4\n",
      "original feature:   Rank-1: 8.76% | Rank-5: 23.51% | Rank-10: 35.50%| Rank-20: 53.80%| mAP: 10.00%| mINP: 4.62%\n",
      "feature after BN:   Rank-1: 7.84% | Rank-5: 25.30% | Rank-10: 37.65%| Rank-20: 54.46%| mAP: 9.97%| mINP: 4.62%\n",
      "SYSU Test Trial: 5\n",
      "original feature:   Rank-1: 7.15% | Rank-5: 22.88% | Rank-10: 35.26%| Rank-20: 51.83%| mAP: 9.54%| mINP: 4.68%\n",
      "feature after BN:   Rank-1: 10.44% | Rank-5: 26.45% | Rank-10: 38.76%| Rank-20: 55.43%| mAP: 10.69%| mINP: 4.28%\n",
      "SYSU Test Trial: 6\n",
      "original feature:   Rank-1: 9.44% | Rank-5: 25.61% | Rank-10: 37.68%| Rank-20: 53.72%| mAP: 10.41%| mINP: 4.60%\n",
      "feature after BN:   Rank-1: 9.36% | Rank-5: 26.40% | Rank-10: 39.47%| Rank-20: 54.88%| mAP: 10.50%| mINP: 4.19%\n",
      "SYSU Test Trial: 7\n",
      "original feature:   Rank-1: 7.99% | Rank-5: 23.06% | Rank-10: 35.08%| Rank-20: 50.41%| mAP: 9.52%| mINP: 4.61%\n",
      "feature after BN:   Rank-1: 9.20% | Rank-5: 24.32% | Rank-10: 36.84%| Rank-20: 54.12%| mAP: 9.56%| mINP: 4.07%\n",
      "SYSU Test Trial: 8\n",
      "original feature:   Rank-1: 7.89% | Rank-5: 24.85% | Rank-10: 37.26%| Rank-20: 53.14%| mAP: 9.70%| mINP: 4.17%\n",
      "feature after BN:   Rank-1: 9.47% | Rank-5: 26.74% | Rank-10: 38.68%| Rank-20: 54.06%| mAP: 10.36%| mINP: 4.25%\n",
      "SYSU Test Trial: 9\n",
      "original feature:   Rank-1: 8.89% | Rank-5: 24.17% | Rank-10: 36.16%| Rank-20: 53.33%| mAP: 10.32%| mINP: 4.59%\n",
      "feature after BN:   Rank-1: 11.07% | Rank-5: 27.19% | Rank-10: 39.36%| Rank-20: 55.80%| mAP: 10.85%| mINP: 4.38%\n",
      "All Average:\n",
      "original feature:   Rank-1: 8.06% | Rank-5: 23.76% | Rank-10: 36.03%| Rank-20: 52.81%| mAP: 9.85%| mINP: 4.64%\n",
      "feature after BN:   Rank-1: 9.59% | Rank-5: 26.01% | Rank-10: 38.28%| Rank-20: 54.74%| mAP: 10.42%| mINP: 4.45%\n"
     ]
    }
   ],
   "source": [
    "%run test.py --protocol R_L_to_S --resume R_L_to_S_agw_p8_n4_lr_0.1_seed_0_best.pth"
   ]
  },
  {
   "cell_type": "markdown",
   "id": "71f1dd39-3287-4ba9-8d19-293a85379fa8",
   "metadata": {},
   "source": [
    "## L+S->R"
   ]
  },
  {
   "cell_type": "code",
   "execution_count": null,
   "id": "7673551f-6d34-4306-bb0d-c481cf3b811e",
   "metadata": {
    "tags": []
   },
   "outputs": [
    {
     "name": "stdout",
     "output_type": "stream",
     "text": [
      "Test Protocol:  L_S_to_R\n",
      "==> Building model......\n",
      "==> Testing......\n",
      "==> Loading weights from checkpoint......\n",
      "==> best epoch 12\n",
      "RegDB Test Trial: 1, Thermal to Visible\n",
      "original feature:   Rank-1: 6.75% | Rank-5: 12.23% | Rank-10: 17.82%| Rank-20: 22.43%| mAP: 7.19%| mINP: 3.97%\n",
      "feature after BN:   Rank-1: 16.41% | Rank-5: 26.02% | Rank-10: 32.67%| Rank-20: 40.34%| mAP: 17.07%| mINP: 10.50%\n",
      "RegDB Test Trial: 2, Thermal to Visible\n",
      "original feature:   Rank-1: 4.81% | Rank-5: 11.26% | Rank-10: 15.39%| Rank-20: 21.17%| mAP: 6.72%| mINP: 4.08%\n",
      "feature after BN:   Rank-1: 15.00% | Rank-5: 24.42% | Rank-10: 29.90%| Rank-20: 37.77%| mAP: 15.70%| mINP: 9.83%\n",
      "RegDB Test Trial: 3, Thermal to Visible\n",
      "original feature:   Rank-1: 7.96% | Rank-5: 13.74% | Rank-10: 19.27%| Rank-20: 26.17%| mAP: 8.20%| mINP: 4.78%\n",
      "feature after BN:   Rank-1: 14.42% | Rank-5: 24.85% | Rank-10: 31.46%| Rank-20: 39.81%| mAP: 14.99%| mINP: 9.19%\n",
      "RegDB Test Trial: 4, Thermal to Visible\n",
      "original feature:   Rank-1: 4.85% | Rank-5: 10.49% | Rank-10: 15.53%| Rank-20: 21.75%| mAP: 6.02%| mINP: 3.49%\n",
      "feature after BN:   Rank-1: 14.42% | Rank-5: 23.74% | Rank-10: 30.73%| Rank-20: 39.03%| mAP: 15.31%| mINP: 9.37%\n",
      "RegDB Test Trial: 5, Thermal to Visible\n",
      "original feature:   Rank-1: 5.97% | Rank-5: 11.99% | Rank-10: 15.78%| Rank-20: 22.23%| mAP: 6.87%| mINP: 3.77%\n",
      "feature after BN:   Rank-1: 12.14% | Rank-5: 21.89% | Rank-10: 30.00%| Rank-20: 39.17%| mAP: 13.32%| mINP: 7.87%\n",
      "RegDB Test Trial: 6, Thermal to Visible\n",
      "original feature:   Rank-1: 6.21% | Rank-5: 12.43% | Rank-10: 17.18%| Rank-20: 22.72%| mAP: 7.16%| mINP: 3.96%\n",
      "feature after BN:   Rank-1: 13.79% | Rank-5: 23.20% | Rank-10: 29.76%| Rank-20: 38.30%| mAP: 14.05%| mINP: 8.25%\n"
     ]
    }
   ],
   "source": [
    "%run test.py --protocol L_S_to_R --resume L_S_to_R_agw_p8_n4_lr_0.1_seed_0_best.pth"
   ]
  }
 ],
 "metadata": {
  "kernelspec": {
   "display_name": "Python 3 (ipykernel)",
   "language": "python",
   "name": "python3"
  },
  "language_info": {
   "codemirror_mode": {
    "name": "ipython",
    "version": 3
   },
   "file_extension": ".py",
   "mimetype": "text/x-python",
   "name": "python",
   "nbconvert_exporter": "python",
   "pygments_lexer": "ipython3",
   "version": "3.10.8"
  }
 },
 "nbformat": 4,
 "nbformat_minor": 5
}

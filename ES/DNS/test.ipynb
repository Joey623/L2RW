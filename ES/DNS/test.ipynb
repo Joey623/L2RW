{
 "cells": [
  {
   "cell_type": "markdown",
   "id": "d8a1c66c-d21a-4feb-9f4f-373026a8651d",
   "metadata": {},
   "source": [
    "## R+S->L"
   ]
  },
  {
   "cell_type": "code",
   "execution_count": 2,
   "id": "f66076be-e351-4ef7-bfe4-50cc1ed7ad24",
   "metadata": {
    "tags": []
   },
   "outputs": [
    {
     "name": "stdout",
     "output_type": "stream",
     "text": [
      "==> Building model......\n",
      "==> Testing......\n",
      "==> Loading weights from checkpoint......\n",
      "==> best epoch 20\n",
      "LLCM Test Trial: 0\n",
      "original feature:   Rank-1: 7.34% | Rank-5: 17.36% | Rank-10: 23.75%| Rank-20: 31.66%| mAP: 10.18%| mINP: 7.83%\n",
      "feature after BN:   Rank-1: 9.80% | Rank-5: 20.93% | Rank-10: 27.62%| Rank-20: 37.65%| mAP: 13.39%| mINP: 10.95%\n",
      "LLCM Test Trial: 1\n",
      "original feature:   Rank-1: 7.26% | Rank-5: 16.80% | Rank-10: 23.77%| Rank-20: 32.46%| mAP: 9.88%| mINP: 7.45%\n",
      "feature after BN:   Rank-1: 10.16% | Rank-5: 21.66% | Rank-10: 29.17%| Rank-20: 38.28%| mAP: 13.36%| mINP: 10.54%\n",
      "LLCM Test Trial: 2\n",
      "original feature:   Rank-1: 8.21% | Rank-5: 18.69% | Rank-10: 25.37%| Rank-20: 34.05%| mAP: 11.38%| mINP: 8.91%\n",
      "feature after BN:   Rank-1: 10.41% | Rank-5: 21.50% | Rank-10: 29.08%| Rank-20: 38.67%| mAP: 13.86%| mINP: 11.20%\n",
      "LLCM Test Trial: 3\n",
      "original feature:   Rank-1: 7.54% | Rank-5: 16.29% | Rank-10: 22.22%| Rank-20: 30.46%| mAP: 9.86%| mINP: 7.41%\n",
      "feature after BN:   Rank-1: 10.02% | Rank-5: 20.63% | Rank-10: 27.57%| Rank-20: 37.26%| mAP: 13.16%| mINP: 10.50%\n",
      "LLCM Test Trial: 4\n",
      "original feature:   Rank-1: 8.32% | Rank-5: 17.75% | Rank-10: 23.46%| Rank-20: 31.19%| mAP: 10.81%| mINP: 8.21%\n",
      "feature after BN:   Rank-1: 9.38% | Rank-5: 19.87% | Rank-10: 27.37%| Rank-20: 36.77%| mAP: 13.02%| mINP: 10.66%\n",
      "LLCM Test Trial: 5\n",
      "original feature:   Rank-1: 8.62% | Rank-5: 18.13% | Rank-10: 24.59%| Rank-20: 32.68%| mAP: 11.10%| mINP: 8.67%\n",
      "feature after BN:   Rank-1: 9.74% | Rank-5: 21.32% | Rank-10: 28.57%| Rank-20: 37.96%| mAP: 13.38%| mINP: 10.86%\n",
      "LLCM Test Trial: 6\n",
      "original feature:   Rank-1: 8.12% | Rank-5: 17.64% | Rank-10: 24.10%| Rank-20: 32.79%| mAP: 10.96%| mINP: 8.60%\n",
      "feature after BN:   Rank-1: 10.31% | Rank-5: 21.56% | Rank-10: 28.83%| Rank-20: 39.00%| mAP: 13.99%| mINP: 11.56%\n",
      "LLCM Test Trial: 7\n",
      "original feature:   Rank-1: 8.26% | Rank-5: 17.88% | Rank-10: 23.81%| Rank-20: 32.11%| mAP: 10.56%| mINP: 7.86%\n",
      "feature after BN:   Rank-1: 10.10% | Rank-5: 20.42% | Rank-10: 27.90%| Rank-20: 37.94%| mAP: 13.04%| mINP: 10.23%\n",
      "LLCM Test Trial: 8\n",
      "original feature:   Rank-1: 8.62% | Rank-5: 18.64% | Rank-10: 25.10%| Rank-20: 33.51%| mAP: 11.39%| mINP: 8.92%\n",
      "feature after BN:   Rank-1: 10.76% | Rank-5: 21.99% | Rank-10: 29.18%| Rank-20: 38.14%| mAP: 14.10%| mINP: 11.38%\n",
      "LLCM Test Trial: 9\n",
      "original feature:   Rank-1: 8.67% | Rank-5: 18.36% | Rank-10: 25.09%| Rank-20: 32.92%| mAP: 11.39%| mINP: 8.96%\n",
      "feature after BN:   Rank-1: 10.68% | Rank-5: 22.29% | Rank-10: 29.46%| Rank-20: 38.72%| mAP: 14.20%| mINP: 11.55%\n",
      "All Average:\n",
      "original feature:   Rank-1: 8.10% | Rank-5: 17.75% | Rank-10: 24.13%| Rank-20: 32.38%| mAP: 10.75%| mINP: 8.28%\n",
      "feature after BN:   Rank-1: 10.14% | Rank-5: 21.22% | Rank-10: 28.47%| Rank-20: 38.04%| mAP: 13.55%| mINP: 10.94%\n"
     ]
    }
   ],
   "source": [
    "%run test.py --protocol R_S_to_L --resume R_S_to_L_dns_p6_n4_lr_0.2_seed_0_best.pth"
   ]
  },
  {
   "cell_type": "markdown",
   "id": "753287f9-07de-4bfe-bec5-bfdba13d41f3",
   "metadata": {},
   "source": [
    "## R+L->S"
   ]
  },
  {
   "cell_type": "code",
   "execution_count": 3,
   "id": "7a704c49-6212-4edf-9e74-b752f37e288d",
   "metadata": {
    "tags": []
   },
   "outputs": [
    {
     "name": "stdout",
     "output_type": "stream",
     "text": [
      "==> Building model......\n",
      "==> Testing......\n",
      "==> Loading weights from checkpoint......\n",
      "==> best epoch 25\n",
      "SYSU Test Trial: 0\n",
      "original feature:   Rank-1: 11.94% | Rank-5: 28.64% | Rank-10: 41.55%| Rank-20: 58.82%| mAP: 11.23%| mINP: 4.28%\n",
      "feature after BN:   Rank-1: 12.36% | Rank-5: 29.87% | Rank-10: 41.86%| Rank-20: 58.53%| mAP: 12.01%| mINP: 4.70%\n",
      "SYSU Test Trial: 1\n",
      "original feature:   Rank-1: 9.47% | Rank-5: 25.56% | Rank-10: 37.65%| Rank-20: 54.48%| mAP: 10.66%| mINP: 4.49%\n",
      "feature after BN:   Rank-1: 10.44% | Rank-5: 27.95% | Rank-10: 39.89%| Rank-20: 57.03%| mAP: 11.52%| mINP: 5.14%\n",
      "SYSU Test Trial: 2\n",
      "original feature:   Rank-1: 11.60% | Rank-5: 28.40% | Rank-10: 40.52%| Rank-20: 56.61%| mAP: 10.75%| mINP: 3.50%\n",
      "feature after BN:   Rank-1: 12.20% | Rank-5: 30.61% | Rank-10: 43.97%| Rank-20: 59.53%| mAP: 11.78%| mINP: 4.56%\n",
      "SYSU Test Trial: 3\n",
      "original feature:   Rank-1: 10.47% | Rank-5: 28.27% | Rank-10: 41.36%| Rank-20: 56.64%| mAP: 10.77%| mINP: 4.03%\n",
      "feature after BN:   Rank-1: 11.73% | Rank-5: 30.40% | Rank-10: 43.81%| Rank-20: 59.35%| mAP: 11.85%| mINP: 4.57%\n",
      "SYSU Test Trial: 4\n",
      "original feature:   Rank-1: 10.31% | Rank-5: 26.90% | Rank-10: 38.81%| Rank-20: 54.56%| mAP: 10.74%| mINP: 4.71%\n",
      "feature after BN:   Rank-1: 10.68% | Rank-5: 27.71% | Rank-10: 40.81%| Rank-20: 58.19%| mAP: 11.23%| mINP: 4.50%\n",
      "SYSU Test Trial: 5\n",
      "original feature:   Rank-1: 11.28% | Rank-5: 27.90% | Rank-10: 39.68%| Rank-20: 56.14%| mAP: 11.02%| mINP: 3.78%\n",
      "feature after BN:   Rank-1: 11.49% | Rank-5: 30.06% | Rank-10: 42.65%| Rank-20: 58.51%| mAP: 11.75%| mINP: 4.35%\n",
      "SYSU Test Trial: 6\n",
      "original feature:   Rank-1: 11.89% | Rank-5: 29.56% | Rank-10: 42.05%| Rank-20: 57.01%| mAP: 11.32%| mINP: 4.07%\n",
      "feature after BN:   Rank-1: 12.70% | Rank-5: 30.11% | Rank-10: 43.12%| Rank-20: 57.40%| mAP: 12.16%| mINP: 4.48%\n",
      "SYSU Test Trial: 7\n",
      "original feature:   Rank-1: 9.91% | Rank-5: 26.40% | Rank-10: 40.07%| Rank-20: 56.03%| mAP: 10.22%| mINP: 3.61%\n",
      "feature after BN:   Rank-1: 12.15% | Rank-5: 28.58% | Rank-10: 40.63%| Rank-20: 55.90%| mAP: 11.13%| mINP: 4.09%\n",
      "SYSU Test Trial: 8\n",
      "original feature:   Rank-1: 10.28% | Rank-5: 27.43% | Rank-10: 38.89%| Rank-20: 55.19%| mAP: 11.00%| mINP: 4.22%\n",
      "feature after BN:   Rank-1: 11.25% | Rank-5: 29.08% | Rank-10: 42.36%| Rank-20: 58.48%| mAP: 11.92%| mINP: 4.90%\n",
      "SYSU Test Trial: 9\n",
      "original feature:   Rank-1: 11.23% | Rank-5: 28.85% | Rank-10: 41.23%| Rank-20: 57.32%| mAP: 10.92%| mINP: 3.58%\n",
      "feature after BN:   Rank-1: 12.54% | Rank-5: 31.40% | Rank-10: 44.52%| Rank-20: 59.48%| mAP: 12.31%| mINP: 4.35%\n",
      "All Average:\n",
      "original feature:   Rank-1: 10.84% | Rank-5: 27.79% | Rank-10: 40.18%| Rank-20: 56.28%| mAP: 10.86%| mINP: 4.03%\n",
      "feature after BN:   Rank-1: 11.75% | Rank-5: 29.58% | Rank-10: 42.36%| Rank-20: 58.24%| mAP: 11.77%| mINP: 4.56%\n"
     ]
    }
   ],
   "source": [
    "%run test.py --protocol R_L_to_S --resume R_L_to_S_dns_p6_n4_lr_0.2_seed_0_best.pth"
   ]
  },
  {
   "cell_type": "markdown",
   "id": "71f1dd39-3287-4ba9-8d19-293a85379fa8",
   "metadata": {},
   "source": [
    "## L+S->R"
   ]
  },
  {
   "cell_type": "code",
   "execution_count": 4,
   "id": "7673551f-6d34-4306-bb0d-c481cf3b811e",
   "metadata": {
    "tags": []
   },
   "outputs": [
    {
     "name": "stdout",
     "output_type": "stream",
     "text": [
      "==> Building model......\n",
      "==> Testing......\n",
      "==> Loading weights from checkpoint......\n",
      "==> best epoch 21\n",
      "RegDB Test Trial: 1, Thermal to Visible\n",
      "original feature:   Rank-1: 11.31% | Rank-5: 18.54% | Rank-10: 24.27%| Rank-20: 32.62%| mAP: 11.29%| mINP: 6.40%\n",
      "feature after BN:   Rank-1: 20.15% | Rank-5: 30.73% | Rank-10: 38.88%| Rank-20: 48.20%| mAP: 19.33%| mINP: 10.80%\n",
      "RegDB Test Trial: 2, Thermal to Visible\n",
      "original feature:   Rank-1: 10.29% | Rank-5: 16.75% | Rank-10: 23.25%| Rank-20: 31.84%| mAP: 10.91%| mINP: 6.53%\n",
      "feature after BN:   Rank-1: 18.25% | Rank-5: 29.76% | Rank-10: 37.57%| Rank-20: 46.80%| mAP: 18.28%| mINP: 10.75%\n",
      "RegDB Test Trial: 3, Thermal to Visible\n",
      "original feature:   Rank-1: 8.25% | Rank-5: 15.15% | Rank-10: 21.89%| Rank-20: 29.61%| mAP: 9.44%| mINP: 5.58%\n",
      "feature after BN:   Rank-1: 16.70% | Rank-5: 29.95% | Rank-10: 37.91%| Rank-20: 48.25%| mAP: 17.18%| mINP: 9.96%\n",
      "RegDB Test Trial: 4, Thermal to Visible\n",
      "original feature:   Rank-1: 9.61% | Rank-5: 15.83% | Rank-10: 21.65%| Rank-20: 30.97%| mAP: 9.71%| mINP: 5.87%\n",
      "feature after BN:   Rank-1: 18.64% | Rank-5: 30.49% | Rank-10: 38.50%| Rank-20: 47.91%| mAP: 18.01%| mINP: 10.20%\n",
      "RegDB Test Trial: 5, Thermal to Visible\n",
      "original feature:   Rank-1: 8.93% | Rank-5: 15.29% | Rank-10: 21.07%| Rank-20: 30.00%| mAP: 9.72%| mINP: 5.97%\n",
      "feature after BN:   Rank-1: 17.23% | Rank-5: 29.03% | Rank-10: 35.87%| Rank-20: 45.19%| mAP: 17.48%| mINP: 10.04%\n",
      "RegDB Test Trial: 6, Thermal to Visible\n",
      "original feature:   Rank-1: 10.73% | Rank-5: 16.99% | Rank-10: 22.96%| Rank-20: 31.84%| mAP: 10.69%| mINP: 6.03%\n",
      "feature after BN:   Rank-1: 19.27% | Rank-5: 29.66% | Rank-10: 36.21%| Rank-20: 45.78%| mAP: 17.82%| mINP: 9.93%\n",
      "RegDB Test Trial: 7, Thermal to Visible\n",
      "original feature:   Rank-1: 9.71% | Rank-5: 16.55% | Rank-10: 23.50%| Rank-20: 31.55%| mAP: 9.83%| mINP: 5.77%\n",
      "feature after BN:   Rank-1: 17.14% | Rank-5: 28.64% | Rank-10: 35.58%| Rank-20: 46.36%| mAP: 17.60%| mINP: 10.19%\n",
      "RegDB Test Trial: 8, Thermal to Visible\n",
      "original feature:   Rank-1: 11.02% | Rank-5: 17.86% | Rank-10: 23.25%| Rank-20: 30.39%| mAP: 11.30%| mINP: 7.09%\n",
      "feature after BN:   Rank-1: 19.32% | Rank-5: 29.47% | Rank-10: 37.33%| Rank-20: 45.24%| mAP: 19.26%| mINP: 11.78%\n",
      "RegDB Test Trial: 9, Thermal to Visible\n",
      "original feature:   Rank-1: 11.21% | Rank-5: 18.64% | Rank-10: 23.74%| Rank-20: 30.58%| mAP: 11.03%| mINP: 6.18%\n",
      "feature after BN:   Rank-1: 19.27% | Rank-5: 30.53% | Rank-10: 37.96%| Rank-20: 46.46%| mAP: 18.03%| mINP: 9.93%\n",
      "RegDB Test Trial: 10, Thermal to Visible\n",
      "original feature:   Rank-1: 12.43% | Rank-5: 19.66% | Rank-10: 25.24%| Rank-20: 33.98%| mAP: 12.02%| mINP: 6.90%\n",
      "feature after BN:   Rank-1: 22.77% | Rank-5: 34.71% | Rank-10: 42.09%| Rank-20: 50.00%| mAP: 20.61%| mINP: 12.01%\n",
      "All Average:\n",
      "original feature:   Rank-1: 10.35% | Rank-5: 17.13% | Rank-10: 23.08%| Rank-20: 31.34%| mAP: 10.60%| mINP: 6.23%\n",
      "feature after BN:   Rank-1: 18.87% | Rank-5: 30.30% | Rank-10: 37.79%| Rank-20: 47.02%| mAP: 18.36%| mINP: 10.56%\n"
     ]
    }
   ],
   "source": [
    "%run test.py --protocol L_S_to_R --resume L_S_to_R_dns_p6_n4_lr_0.2_seed_0_best.pth"
   ]
  }
 ],
 "metadata": {
  "kernelspec": {
   "display_name": "Python 3 (ipykernel)",
   "language": "python",
   "name": "python3"
  },
  "language_info": {
   "codemirror_mode": {
    "name": "ipython",
    "version": 3
   },
   "file_extension": ".py",
   "mimetype": "text/x-python",
   "name": "python",
   "nbconvert_exporter": "python",
   "pygments_lexer": "ipython3",
   "version": "3.10.8"
  }
 },
 "nbformat": 4,
 "nbformat_minor": 5
}
